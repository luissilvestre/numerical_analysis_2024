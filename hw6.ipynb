{
 "cells": [
  {
   "cell_type": "markdown",
   "id": "b81d2d27",
   "metadata": {},
   "source": [
    "#  Integration"
   ]
  },
  {
   "cell_type": "markdown",
   "id": "9e01845e",
   "metadata": {},
   "source": [
    "Solve the following exercises.\n",
    "\n",
    "1. Prove that the midpoint rule is exact for polynomials of degree $\\leq 1$.\n",
    "\n",
    "2. Compute the coefficients for the closed Newton-Cotes rule with four points.\n",
    "\n",
    "And also do exercises 13.7 and 13.20 from the book."
   ]
  },
  {
   "cell_type": "markdown",
   "id": "808ba51f",
   "metadata": {},
   "source": [
    "Let us now implement numerical integration. Ideally, we would like to write something of the form\n",
    "\n",
    "``function integrate(f::Function, a::Real, b::Real)\n",
    "...\n",
    "end\n",
    "``\n",
    "\n",
    "that would return an approximate value for \n",
    "$$ \\int_a^b f(x) \\, dx $$\n",
    "\n",
    "We will write different versions of numerical quadrature. Let us start with the trapezoid rule using $n+1$ points (from $x_0$ to $x_n$)."
   ]
  },
  {
   "cell_type": "code",
   "execution_count": null,
   "id": "fcef5e94",
   "metadata": {},
   "outputs": [],
   "source": [
    "function trapezoid(f::Function, a::Real, b::Real, n::Integer=100)\n",
    "#...\n",
    "end"
   ]
  },
  {
   "cell_type": "markdown",
   "id": "9eb26976",
   "metadata": {},
   "source": [
    "Let us verify that \n",
    "$$ \\int_0^1 x^2 dx = 1/3 $$."
   ]
  },
  {
   "cell_type": "code",
   "execution_count": null,
   "id": "29f68f4c",
   "metadata": {},
   "outputs": [],
   "source": [
    "trapezoid(x->x^2,0,1)"
   ]
  },
  {
   "cell_type": "markdown",
   "id": "2dafa370",
   "metadata": {},
   "source": [
    "We now implement the Simpson rule. The parameter $n$ still means that we should be evaluating the function at equispaced points $x_0 = a < x_1 < x_2 < \\dots < x_n=b$"
   ]
  },
  {
   "cell_type": "code",
   "execution_count": null,
   "id": "e23ce746",
   "metadata": {},
   "outputs": [],
   "source": [
    "function simpson(f::Function, a::Real, b::Real, n::Integer=100)\n",
    "#...\n",
    "end"
   ]
  },
  {
   "cell_type": "markdown",
   "id": "5f9ebaf0",
   "metadata": {},
   "source": [
    "The following computation should give you an exact value up to round-off errors. Why?"
   ]
  },
  {
   "cell_type": "code",
   "execution_count": null,
   "id": "43d90056",
   "metadata": {},
   "outputs": [],
   "source": [
    "simpson(x->x^2,0,1)"
   ]
  },
  {
   "cell_type": "markdown",
   "id": "f3f6b0a7",
   "metadata": {},
   "source": [
    "The following function implement Gaussian curvature with two intermediate points. Note that unline the previous cases, we end up evaluating the function $f$ in more than $n+1$ points."
   ]
  },
  {
   "cell_type": "code",
   "execution_count": null,
   "id": "3bb9d61c",
   "metadata": {},
   "outputs": [],
   "source": [
    "function gaussian2(f::Function, a::Real, b::Real, n::Integer=100)\n",
    "    sum = 0.\n",
    "    h = (b-a)/n\n",
    "    root = sqrt(1/3)\n",
    "    for i in 0:n-1\n",
    "        x0 = h*i + a\n",
    "        x1 = h*(i+1) + a\n",
    "        \n",
    "        y1 = (x0+x1)/2 + root*(x1-x0)/2\n",
    "        y2 = (x0+x1)/2 - root*(x1-x0)/2\n",
    "        sum += (f(y1)+f(y2))*h/2\n",
    "    end\n",
    "    return sum\n",
    "end    "
   ]
  },
  {
   "cell_type": "code",
   "execution_count": null,
   "id": "723044f1",
   "metadata": {},
   "outputs": [],
   "source": [
    "# The following computation should also be exact\n",
    "gaussian2(x->x^2,0,1)"
   ]
  },
  {
   "cell_type": "markdown",
   "id": "d75a876f",
   "metadata": {},
   "source": [
    "You should now implement gaussian3 that uses three intermediate points instead of two. You can use [Wikipedia](https://en.wikipedia.org/wiki/Gaussian_quadrature) to find the roots of the orthogonal polynomial and the corresponding weights."
   ]
  },
  {
   "cell_type": "code",
   "execution_count": null,
   "id": "23b52f8c",
   "metadata": {},
   "outputs": [],
   "source": [
    "function gaussian3(f::Function, a::Real, b::Real, n::Integer=100)\n",
    "#...\n",
    "end    "
   ]
  },
  {
   "cell_type": "code",
   "execution_count": null,
   "id": "35de103c",
   "metadata": {},
   "outputs": [],
   "source": [
    "# The following computation should also be exact\n",
    "gaussian3(x->x^2,0,1)"
   ]
  },
  {
   "cell_type": "markdown",
   "id": "1661b408",
   "metadata": {},
   "source": [
    "## Computing $\\pi$\n",
    "\n",
    "There are several smart ways to compute the number $\\pi$ with good accuracy. We are going to do something that is not so smart. Let us approximate $\\pi$ by computing the area of a circle directly.\n",
    "\n",
    "$$ \\pi = 2 \\int_{-1}^1 \\sqrt{1-x^2} \\, dx . $$\n",
    "\n",
    "Let us test our algorithms to see what we get."
   ]
  },
  {
   "cell_type": "code",
   "execution_count": null,
   "id": "5d61fffc",
   "metadata": {},
   "outputs": [],
   "source": [
    "println(\"Exact value: \", Float64(π))\n",
    "circle(x) = 2*sqrt(1-x^2)\n",
    "println(\"Approximation by trapezoid rule:\", trapezoid(circle,-1,1))\n",
    "println(\"Approximation by Simpson rule:\", simpson(circle,-1,1))\n",
    "println(\"Approximation by Gaussian quadrature with two points:\", gaussian2(circle,-1,1))\n",
    "println(\"Approximation by Gaussian quadrature with three points:\", gaussian3(circle,-1,1))"
   ]
  },
  {
   "cell_type": "markdown",
   "id": "e14101fd",
   "metadata": {},
   "source": [
    "The number above are aguably unfair. The trapezoid and simpson rule (if you implement them like I did) evaluate the function in $n+1$ points. The gaussian2 evaluates the function in $2n$ points, and the gaussian3 evaluates the function in $3n$ point. To make the competition fair, let us adapt the value of $n$ accordingly."
   ]
  },
  {
   "cell_type": "code",
   "execution_count": null,
   "id": "b6447fa6",
   "metadata": {},
   "outputs": [],
   "source": [
    "println(\"Exact value: \", Float64(π))\n",
    "circle(x) = 2*sqrt(1-x^2)\n",
    "println(\"Approximation by trapezoid rule: \", trapezoid(circle,-1,1,600))\n",
    "println(\"Approximation by Simpson rule: \", simpson(circle,-1,1,600))\n",
    "println(\"Approximation by Gaussian quadrature with two points: \", gaussian2(circle,-1,1,300))\n",
    "println(\"Approximation by Gaussian quadrature with three points: \", gaussian3(circle,-1,1,200))"
   ]
  },
  {
   "cell_type": "markdown",
   "id": "0a460aac",
   "metadata": {},
   "source": [
    "I am getting approximately four digits of accuracy with the four algorithms. This is not a very significant difference between the four algorithms, and it is maybe less that we would have expected. **Can you explain why the accuracy is so low in this example?**"
   ]
  },
  {
   "cell_type": "markdown",
   "id": "a0ccc90f",
   "metadata": {},
   "source": [
    "Let us now compute a different function as a way to approximate $\\pi$. We will use the following identity.\n",
    "$$ \\pi = \\int_{-1}^1 \\frac 2 {1+x^2} \\, dx.$$"
   ]
  },
  {
   "cell_type": "code",
   "execution_count": null,
   "id": "64cd06fc",
   "metadata": {},
   "outputs": [],
   "source": [
    "println(\"Exact value: \", Float64(π))\n",
    "g(x) = 2/(1+x^2)\n",
    "println(\"Approximation by trapezoid rule: \", trapezoid(g,-1,1,60))\n",
    "println(\"Approximation by Simpson rule: \", simpson(g,-1,1,60))\n",
    "println(\"Approximation by Gaussian quadrature with two points: \", gaussian2(g,-1,1,30))\n",
    "println(\"Approximation by Gaussian quadrature with three points: \", gaussian3(g,-1,1,20))"
   ]
  },
  {
   "cell_type": "markdown",
   "id": "5ad0ac7a",
   "metadata": {},
   "source": [
    "In this case, the Simpson rule, and the two Gaussian quadrature rules, give us a much better approximation than the trapezoid rule. The approximations are accurate to several digits even though we used very few points.\n",
    "\n",
    "The function `gaussian3` has a higher degree of accuracy in theory than `simpson` or `gaussian2`. However, to really apreciate its benefit, we would have to be integrating with a larger number of points. In practice, we get a nearly exact solution with any of these three methods if we use more than 150 points. So, the benefit of `gaussian3` is harder to observe."
   ]
  },
  {
   "cell_type": "code",
   "execution_count": null,
   "id": "d725a97d",
   "metadata": {},
   "outputs": [],
   "source": []
  }
 ],
 "metadata": {
  "kernelspec": {
   "display_name": "Julia 1.9.3",
   "language": "julia",
   "name": "julia-1.9"
  },
  "language_info": {
   "file_extension": ".jl",
   "mimetype": "application/julia",
   "name": "julia",
   "version": "1.9.3"
  }
 },
 "nbformat": 4,
 "nbformat_minor": 5
}
