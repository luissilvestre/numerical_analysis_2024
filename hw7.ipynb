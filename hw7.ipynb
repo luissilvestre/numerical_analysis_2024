{
 "cells": [
  {
   "cell_type": "markdown",
   "id": "c4e92e7a",
   "metadata": {},
   "source": [
    "# Homework 6\n",
    "\n",
    "Solve exercises 16.9 and 16.14 from the book."
   ]
  },
  {
   "cell_type": "markdown",
   "id": "d1122d99",
   "metadata": {},
   "source": [
    "## Planet around the sun\n",
    "\n",
    "Let us analyze the trajectory of a planet, or any other asteroid, as it travels around the sun. Let us model its current state in terms of its position $X(T)$ and velocity $V(t)$. We assume the sun is fixed at the center of coordinates $x = 0$.\n",
    "\n",
    "By definition, velocity is the derivative of the position: $X'(t) = V(t)$. Newton's law of gravity says that the planet will be attracted toward the sun with a force inverse proportional to the square of its distance. That means\n",
    "$$ V'(t) = -c \\frac{X(t)}{|X(t)|^2}.$$\n",
    "\n",
    "Our job today is to approximate the solution of this ODE. The constant $c$ depends on the mass of the planet, the mass of the sun, the units of time, the universal gravitational constant, etc... For us $c=1$ :)"
   ]
  },
  {
   "cell_type": "markdown",
   "id": "00862473",
   "metadata": {},
   "source": [
    "Note also that this is literally a second order ODE: $X'' = -X / |X|^3$. We rewrite it as a first order system in order to apply our standard methods.\n",
    "$$ \\begin{cases} X' = V, \\\\ V' = -X / |X|^3. \\end{cases}$$"
   ]
  },
  {
   "cell_type": "markdown",
   "id": "8c06a0cc",
   "metadata": {},
   "source": [
    "We will write generic code to solve systems of ODEs. Then, we will apply it to the equation above."
   ]
  },
  {
   "cell_type": "markdown",
   "id": "1ba2b714",
   "metadata": {},
   "source": [
    "## Euler method\n",
    "\n",
    "Let us write a generic function that computes the solution of an ODE by Euler's method. It takes an initial point $x_0$ which is supposed to belong to $\\mathbb R^d$. It applies a given function $f : \\mathbb R^d \\to \\mathbb R^d$. Let us assume, for simplicity, that the function $f$ does not depend on time."
   ]
  },
  {
   "cell_type": "code",
   "execution_count": null,
   "id": "3c91f202",
   "metadata": {},
   "outputs": [],
   "source": [
    "function euler_method(x0::Array{<:Real,1}, f::Function, h::Real)\n",
    "    x = x0 + h*f(x0)\n",
    "    return x\n",
    "end"
   ]
  },
  {
   "cell_type": "markdown",
   "id": "5b69f95c",
   "metadata": {},
   "source": [
    "In order to approximate the orbit of a planet, let us define a function $f(x,v) = (v,-x/|x|^3)$ as above."
   ]
  },
  {
   "cell_type": "code",
   "execution_count": null,
   "id": "3e7d4909",
   "metadata": {},
   "outputs": [],
   "source": [
    "function norm_squared(x::Array{<:Real,1})\n",
    "    return reduce(+,map(y->y^2,x))\n",
    "end\n",
    "\n",
    "function newton_gravity_law(u::Array{<:Real,1})    \n",
    "    # Here u = (x,v). The dimension is really half of the length of u\n",
    "    d = div(length(u),2)\n",
    "    dx = u[d+1:2d]\n",
    "    x = u[1:d]\n",
    "    dv = -x / norm_squared(x)^(3/2)\n",
    "    return vcat(dx,dv)\n",
    "end  \n",
    "    "
   ]
  },
  {
   "cell_type": "markdown",
   "id": "2e344285",
   "metadata": {},
   "source": [
    "Here is a function to draw the result of different iteration schemes."
   ]
  },
  {
   "cell_type": "code",
   "execution_count": null,
   "id": "fc8c8802",
   "metadata": {},
   "outputs": [],
   "source": [
    "using Plots\n",
    "\n",
    "function draw_planet_orbit(x0::Array{<:Real,1}, v0::Array{<:Real,1}, h::Real, time::Real, iteration::Function)\n",
    "    #  draw the sun first\n",
    "    scatter((0.,0.),color=:yellow, markersize=20, xlims=(-1.5,1.5), ylims=(-1.5,1.5), label=\"sun\")\n",
    "    \n",
    "    iterations = Int(round(time/h))\n",
    "    x_list = [x0[1]]\n",
    "    y_list = [x0[2]]\n",
    "    x = x0\n",
    "    v = v0\n",
    "    for i in 1:iterations\n",
    "        u = iteration(x,v,h)\n",
    "        push!(x_list,u[1])\n",
    "        push!(y_list,u[2])\n",
    "        x = u[1:2]\n",
    "        v = u[3:4]\n",
    "    end\n",
    "    plot!(x_list,y_list, label=\"\")\n",
    "    scatter!([x[1]],[x[2]],color=:brown, markersize=5, label=\"planet\")\n",
    "end\n",
    "\n",
    "iteration_Euler(x,v,h) = euler_method(vcat(x,v), newton_gravity_law, h)\n",
    "\n",
    "@gif for i in 1:600\n",
    "    # this is admittedly inefficient. I recompute the solution from the beginning in each frame! Oh well...\n",
    "    draw_planet_orbit([1.,0.],[0.,-1.], 0.05, 0.2*i, iteration_Euler)\n",
    "end"
   ]
  },
  {
   "cell_type": "markdown",
   "id": "e92c7f49",
   "metadata": {},
   "source": [
    "This first computation should not be working so well. Planets orbit around the sun on an elliptical cycle. I do not see it with Euler's method. The computation is more accurate for small values of $h$, and worse for large values of $h$. Thus, the following movie should look closer to reality, but it will take longer to compute."
   ]
  },
  {
   "cell_type": "code",
   "execution_count": null,
   "id": "0c326319",
   "metadata": {},
   "outputs": [],
   "source": [
    "@gif for i in 1:600\n",
    "    draw_planet_orbit([1.,0.],[0.,-1.], 0.005, 0.2*i, iteration_Euler)\n",
    "end"
   ]
  },
  {
   "cell_type": "markdown",
   "id": "a980728d",
   "metadata": {},
   "source": [
    "Let me propose a small modification of Euler method that would make the picture look more realistic. The movement of the planet should conserve energy. That is, the sum of the potential plus kinetic energy should be constant in time:\n",
    "$$ E = -\\frac 1 {|X|} + \\frac{|V|^2}2. $$\n",
    "So, how about we force it to be? At every step of Euler iteration, let us adjust the value of $|X|$ so that the energy remains constant. It is admittedly artificial. I do not have any justification why adjusting $|X|$ would be a better idea than adjusting $|V|$. It would be worth trying different alternatives."
   ]
  },
  {
   "cell_type": "code",
   "execution_count": null,
   "id": "d513ed46",
   "metadata": {},
   "outputs": [],
   "source": [
    "function iteration_Euler_constant_energy(x,v,h)\n",
    "    energy = -1/sqrt(norm_squared(x)) + norm_squared(v)/2\n",
    "    u = euler_method(vcat(x,v), newton_gravity_law, h)\n",
    "    new_energy = -1/sqrt(norm_squared(u[1:2])) + norm_squared(u[3:4])/2\n",
    "    diff = (energy-new_energy)*sqrt(norm_squared(u[1:2]))\n",
    "    u[1:2] = (1-diff)^(-1)*u[1:2]\n",
    "    return u\n",
    "end\n",
    "    \n",
    "\n",
    "@gif for i in 1:600\n",
    "    draw_planet_orbit([1.,0.],[0.,-1.], 0.1, 0.2*i, iteration_Euler_constant_energy)\n",
    "end"
   ]
  },
  {
   "cell_type": "markdown",
   "id": "2b7ec031",
   "metadata": {},
   "source": [
    "The orbit does not look bad at all in my computer, even though we used a coarser step size $h=0.1$. The logic is that the conservation of energy is one of the key features of the ODE that we are simulating. By making sure that our numerical computation also satisfies conservation of energy, then the result that we find will look more realistic. I am not sure how accurate this method really is.\n",
    "\n",
    "Ok. I've done enough. You are going to have to write the code below."
   ]
  },
  {
   "cell_type": "markdown",
   "id": "0f5407e9",
   "metadata": {},
   "source": [
    "## Other methods for solving ODEs\n",
    "\n",
    "Let us now implement the *higher order obvious* method (should we call it the *power series method*?), the modified Euler, and the RK4.\n",
    "\n",
    "You may take a look at the [Wikipedia page](https://en.wikipedia.org/wiki/List_of_Runge%E2%80%93Kutta_methods#Classic_fourth-order_method) for Runge Kutta methods. The ones I am asking you to implement are listed there as \"forward Euler\", \"Heun's method\", and \"Classic fourth-order method\".\n",
    "\n",
    "None of you seemed to be bothered by the fact that we needed to compute the derivative of a function in order to implement the higher order method using power series. So, I will write the function and you are only required to write the derivative of the newton gravity law."
   ]
  },
  {
   "cell_type": "code",
   "execution_count": null,
   "id": "317085c3",
   "metadata": {},
   "outputs": [],
   "source": [
    "function higher_order_obvious(x0::Array{<:Real,1}, f::Function, fx::Function, h::Real)\n",
    "# Here, fx is the derivative of f. fx returns a d x d matrix.   \n",
    "# It must be provided explicitly for this method to work.\n",
    "    x = x0 + h*f(x0) + h^2/2 * fx(x0) * f(x0)\n",
    "    return x\n",
    "end\n",
    "\n",
    "function derivative_of_newton_gravity_law(u::Array{<:Real,1})    \n",
    "    # ...\n",
    "end  "
   ]
  },
  {
   "cell_type": "markdown",
   "id": "1f0e4579",
   "metadata": {},
   "source": [
    "If your code is correct, the code below will generate a cute movie."
   ]
  },
  {
   "cell_type": "code",
   "execution_count": null,
   "id": "f0488157",
   "metadata": {},
   "outputs": [],
   "source": [
    "iteration_higher_order(x,v,h) = higher_order_obvious(vcat(x,v), newton_gravity_law, derivative_of_newton_gravity_law, h)\n",
    "\n",
    "@gif for i in 1:600\n",
    "    draw_planet_orbit([1.,0.],[0.,-1.], 0.1, 0.2*i, iteration_higher_order)\n",
    "end"
   ]
  },
  {
   "cell_type": "markdown",
   "id": "aa068f8d",
   "metadata": {},
   "source": [
    "It should be a rather accurate computation already.\n",
    "\n",
    "Let us implement the other two methods now."
   ]
  },
  {
   "cell_type": "code",
   "execution_count": null,
   "id": "2a67f1b7",
   "metadata": {},
   "outputs": [],
   "source": [
    "function modified_euler(x0::Array{<:Real,1}, f::Function, h::Real)\n",
    "    # ...\n",
    "end\n",
    "\n",
    "function RK4(x0::Array{<:Real,1}, f::Function, h::Real)\n",
    "    # ...\n",
    "end"
   ]
  },
  {
   "cell_type": "markdown",
   "id": "d2003cec",
   "metadata": {},
   "source": [
    "And we test them..."
   ]
  },
  {
   "cell_type": "code",
   "execution_count": null,
   "id": "f919e4f9",
   "metadata": {},
   "outputs": [],
   "source": [
    "iteration_modified_Euler(x,v,h) = modified_euler(vcat(x,v), newton_gravity_law, h)\n",
    "\n",
    "@gif for i in 1:600\n",
    "    draw_planet_orbit([1.,0.],[0.,-1.], 0.1, 0.2*i, iteration_modified_Euler)\n",
    "end"
   ]
  },
  {
   "cell_type": "code",
   "execution_count": null,
   "id": "305f4574",
   "metadata": {},
   "outputs": [],
   "source": [
    "iteration_RK4(x,v,h) = RK4(vcat(x,v), newton_gravity_law, h)\n",
    "\n",
    "@gif for i in 1:600\n",
    "    draw_planet_orbit([1.,0.],[0.,-1.], 0.1, 0.2*i, iteration_RK4)\n",
    "end"
   ]
  },
  {
   "cell_type": "markdown",
   "id": "8666e0f1",
   "metadata": {},
   "source": [
    "Using the fourth order Runge-Kutta method gives me a practically perfect solution."
   ]
  },
  {
   "cell_type": "markdown",
   "id": "dde5225a",
   "metadata": {},
   "source": [
    "Interestingly, the orbits computed by all methods other than the vanilla Euler seem to be quite precise. The trajectories are not as accurate as they seem. The code below draws the trajectory of three different planets computed with three different methods: RK4, Euler with fixed energy, and modified Euler. If the computations were perfect, the three planets should stay at the same position along their trajectory. As you will see, they depart from each other quite a lot."
   ]
  },
  {
   "cell_type": "code",
   "execution_count": null,
   "id": "4330516b",
   "metadata": {},
   "outputs": [],
   "source": [
    "function draw_many_planets_orbit(x0::Array{<:Real,1}, v0::Array{<:Real,1}, h::Real, time::Real, iteration::Function...)\n",
    "    #  draw the sun first\n",
    "    scatter((0.,0.),color=:yellow, markersize=20, xlims=(-1.5,1.5), ylims=(-1.5,1.5), label=\"sun\")\n",
    "    \n",
    "    iterations = Int(round(time/h))\n",
    "    counter = 1\n",
    "    for planet in iteration\n",
    "        x_list = [x0[1]]\n",
    "        y_list = [x0[2]]\n",
    "        x = x0\n",
    "        v = v0\n",
    "        for i in 1:iterations\n",
    "            u = planet(x,v,h)\n",
    "            push!(x_list,u[1])\n",
    "            push!(y_list,u[2])\n",
    "            x = u[1:2]\n",
    "            v = u[3:4]\n",
    "        end\n",
    "        plot!(x_list,y_list, label=\"\")\n",
    "        scatter!([x[1]],[x[2]], markersize=5, label=\"planet \"*string(counter))\n",
    "        counter += 1\n",
    "    end\n",
    "end\n"
   ]
  },
  {
   "cell_type": "code",
   "execution_count": null,
   "id": "bcdcd221",
   "metadata": {},
   "outputs": [],
   "source": [
    "@gif for i in 1:600\n",
    "    draw_many_planets_orbit([1.,0.],[0.,-1.], 0.1, 0.2*i, iteration_RK4, iteration_Euler_constant_energy, iteration_modified_Euler)\n",
    "end"
   ]
  },
  {
   "cell_type": "markdown",
   "id": "4f4890dd",
   "metadata": {},
   "source": [
    "## Other tests.\n",
    "\n",
    "How about we solve a few other ODEs for fun. We have generic code written above. Let us use Runge-Kutta, since it is the most accurate we have.\n",
    "\n",
    "Let us start with a linear ODE with an attractor at the origin. That would be any ODE of the form $X' = A \\cdot X$, for a matrix $A$ with negative eigenvalues. For example\n",
    "$$ A = \\begin{pmatrix} -1 & -2 \\\\ 2 & 0 \\end{pmatrix}.$$"
   ]
  },
  {
   "cell_type": "code",
   "execution_count": null,
   "id": "eab51193",
   "metadata": {},
   "outputs": [],
   "source": [
    "function simpleODE1(x::Array{<:Real,1})\n",
    "    #...\n",
    "end"
   ]
  },
  {
   "cell_type": "code",
   "execution_count": null,
   "id": "10e2a47f",
   "metadata": {},
   "outputs": [],
   "source": [
    "function draw_ODE_solution(ode::Function, h::Real, time::Real, x0_list::Array{<:Real,1}...)\n",
    "    p = plot()\n",
    "    iterations = Int(round(time/h))\n",
    "    for x0 in x0_list\n",
    "        x_list = [x0[1]]\n",
    "        y_list = [x0[2]]\n",
    "        x = x0\n",
    "        for i in 1:iterations\n",
    "            u = RK4(x,ode,h)\n",
    "            push!(x_list,u[1])\n",
    "            push!(y_list,u[2])\n",
    "            x = u\n",
    "        end\n",
    "        plot!(x_list,y_list, label=\"\")\n",
    "        scatter!([x[1]],[x[2]], markersize=5, label=\"\")\n",
    "    end\n",
    "    display(p)\n",
    "end"
   ]
  },
  {
   "cell_type": "code",
   "execution_count": null,
   "id": "ce0c6bc6",
   "metadata": {},
   "outputs": [],
   "source": [
    "many_initial_point = ([1+i/30,0] for i in 1:30)\n",
    "\n",
    "draw_ODE_solution(simpleODE1,0.01,10.,many_initial_point...)"
   ]
  },
  {
   "cell_type": "markdown",
   "id": "6cc94e31",
   "metadata": {},
   "source": [
    "The picture should look like a snail shell"
   ]
  },
  {
   "cell_type": "markdown",
   "id": "91efe3ae",
   "metadata": {},
   "source": [
    "### This ODE does not behave as it should\n",
    "\n",
    "Let us turn to the following ODE in 2D.\n",
    "$$ \\begin{cases} X_1' &= 1,\\\\ X_2 &= \\sqrt{|X_2|}. \\end{cases}.$$"
   ]
  },
  {
   "cell_type": "code",
   "execution_count": null,
   "id": "29e4aff6",
   "metadata": {},
   "outputs": [],
   "source": [
    "function unstableODE(x::Array{<:Real,1})\n",
    "    # ...\n",
    "end"
   ]
  },
  {
   "cell_type": "code",
   "execution_count": null,
   "id": "544e7e0d",
   "metadata": {},
   "outputs": [],
   "source": [
    "many_initial_point = ([0,-0.25+i/40] for i in 1:10)\n",
    "\n",
    "draw_ODE_solution(unstableODE,0.01,1.,many_initial_point...)"
   ]
  },
  {
   "cell_type": "markdown",
   "id": "e8761120",
   "metadata": {},
   "source": [
    "**Wait a minute!!** There is one straight solution $X(t) = (t,0)$ and all the others are crossing it. Aren't solutions of ODE supposed to never cross each other? Why is this happening??? ***Please tell me.***"
   ]
  },
  {
   "cell_type": "markdown",
   "id": "30472b94",
   "metadata": {},
   "source": [
    "### The Lorentz system\n",
    "\n",
    "A popular 3D ODE that produces pretty pictures is the Lorentz system. It is given by the formula\n",
    "$$ \\begin{cases}\n",
    "x' &= \\sigma(y-x), \\\\\n",
    "y' &= x(\\rho-z) - y, \\\\\n",
    "z' &= xy - \\beta z.\n",
    "\\end{cases}$$\n",
    "\n",
    "Let us compute it for $\\beta = 8/3$, $\\sigma = 10$ and $\\rho = 28$."
   ]
  },
  {
   "cell_type": "code",
   "execution_count": null,
   "id": "0414b6ed",
   "metadata": {},
   "outputs": [],
   "source": [
    "function lorentz(x::Array{<:Real,1})\n",
    "    # ...\n",
    "end"
   ]
  },
  {
   "cell_type": "code",
   "execution_count": null,
   "id": "168d88a2",
   "metadata": {},
   "outputs": [],
   "source": [
    "function draw_3DODE_solution(ode::Function, h::Real, time::Real, x0_list::Array{<:Real,1}...)\n",
    "    p = plot3d()\n",
    "    iterations = Int(round(time/h))\n",
    "    for x0 in x0_list\n",
    "        x_list = [x0[1]]\n",
    "        y_list = [x0[2]]\n",
    "        z_list = [x0[3]]\n",
    "        x = x0\n",
    "        for i in 1:iterations\n",
    "            u = RK4(x,ode,h)\n",
    "            push!(x_list,u[1])\n",
    "            push!(y_list,u[2])\n",
    "            push!(z_list,u[3])\n",
    "            x = u\n",
    "        end\n",
    "        plot3d!(x_list,y_list,z_list, label=\"\")\n",
    "    end\n",
    "    return p\n",
    "end"
   ]
  },
  {
   "cell_type": "code",
   "execution_count": null,
   "id": "d0a0056c",
   "metadata": {},
   "outputs": [],
   "source": [
    "@gif for i in 1:100\n",
    "    draw_3DODE_solution(lorentz,0.01,i,[1.,0.,0.])\n",
    "end"
   ]
  },
  {
   "cell_type": "markdown",
   "id": "2f0da291",
   "metadata": {},
   "source": [
    "### A bouncing ball\n",
    "\n",
    "Let us now compute an ODE for a ball bouncing on a trampoline. Let $x(t)$ be the height of this ball, which should follow the following ODE.\n",
    "$$ x'(t) = v(t), \\qquad v'(t) = \\begin{cases} -1 & \\text{ if } x(t)>0, \\\\\n",
    "-1 + x(t)^2 & \\text{ if } x(t)<0. \\end{cases} $$"
   ]
  },
  {
   "cell_type": "code",
   "execution_count": null,
   "id": "8ab384d2",
   "metadata": {},
   "outputs": [],
   "source": [
    "function bouncing_ball(u::Array{<:Real,1})\n",
    "    # Note that here u is a vector in R^2, corresponding to [x(t),v(t)] in the equation above\n",
    "    # ...\n",
    "end"
   ]
  },
  {
   "cell_type": "markdown",
   "id": "9e4b360d",
   "metadata": {},
   "source": [
    "If you wrote the function correctly, the following code should generate a pretty animation."
   ]
  },
  {
   "cell_type": "code",
   "execution_count": null,
   "id": "84b25586",
   "metadata": {},
   "outputs": [],
   "source": [
    "let x = [9.,0.] , h = 0.1\n",
    "    @gif for i in 1:105\n",
    "        plot(xlims=(-1,1), ylims=(-2,10))\n",
    "        if x[1]>0\n",
    "            plot([-1.,1.],[0.,0.],label=\"\",xlims=(-1,1), ylims=(-2,10))\n",
    "        else\n",
    "            plot([-1.,0.,1.],[0.,x[1],0.],label=\"\",xlims=(-1,1), ylims=(-2,10))\n",
    "        end\n",
    "        scatter!([0.],[x[1]],color=:red, markersize=10, label=\"ball\",xlims=(-1,1), ylims=(-2,10))\n",
    "        x = RK4(x,bouncing_ball,h)\n",
    "    end\n",
    "end"
   ]
  },
  {
   "cell_type": "markdown",
   "id": "592a386f",
   "metadata": {},
   "source": [
    "## Challenge\n",
    "\n",
    "Even though the movie of the bouncing ball is unquestionably cool, it can be made better and more realistic.\n",
    "\n",
    "Modify the code above to make the movie cooler. Use your imagination. You may introduce new elements like sideway movements, multiple balls, etc...\n",
    "\n",
    "I will post the nicest movies I see (up to three) on Canvas for bragging rights (no grade)."
   ]
  },
  {
   "cell_type": "code",
   "execution_count": null,
   "id": "71775d8d",
   "metadata": {},
   "outputs": [],
   "source": []
  }
 ],
 "metadata": {
  "kernelspec": {
   "display_name": "Julia 1.9.3",
   "language": "julia",
   "name": "julia-1.9"
  },
  "language_info": {
   "file_extension": ".jl",
   "mimetype": "application/julia",
   "name": "julia",
   "version": "1.9.3"
  }
 },
 "nbformat": 4,
 "nbformat_minor": 5
}
