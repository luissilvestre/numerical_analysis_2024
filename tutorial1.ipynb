{
 "cells": [
  {
   "cell_type": "markdown",
   "id": "47acbcf9",
   "metadata": {},
   "source": [
    "# Minimalistic tutorial\n",
    "\n",
    "In this class we use the [Julia programming language](https://julialang.org/) and [Jupyter notebooks](https://jupyter.org/).\n",
    "\n",
    "It may be convenient, but not strictly necessary, to run these programs on your own computer. If you want to install them, download and install [Julia first](https://julialang.org/downloads/), and then follow the instructions [here](https://github.com/JuliaLang/IJulia.jl) to add Jupyter. Alternatively, you can open and run all the notebooks for this class on your webbrowser following the links to myBinder."
   ]
  },
  {
   "cell_type": "markdown",
   "id": "7f15d34e",
   "metadata": {},
   "source": [
    "This document that you are reading is a *Jupyter* notebook. It contains text mixed up with code written in the *Julia* programming language. You can run the Julia code by pressing Shift+Enter on each cell. Let us try it in the next easy computation. Click on the cell below, and then press Shift+Enter."
   ]
  },
  {
   "cell_type": "code",
   "execution_count": null,
   "id": "2916e8d9",
   "metadata": {},
   "outputs": [],
   "source": [
    "1+1"
   ]
  },
  {
   "cell_type": "markdown",
   "id": "9b4f6cd6",
   "metadata": {},
   "source": [
    "As you can see, Julia is able to do some basic addition. We can also multiply numbers with the symbol `*` , and exponentiate them with the symbol `^` . Press Shift+Enter in the cell below and see for yourself."
   ]
  },
  {
   "cell_type": "code",
   "execution_count": null,
   "id": "d695e660",
   "metadata": {
    "scrolled": false
   },
   "outputs": [],
   "source": [
    "2*3, 2^3"
   ]
  },
  {
   "cell_type": "markdown",
   "id": "4408209a",
   "metadata": {},
   "source": [
    "You may notice that I wrote two computations in one line separated by a comma. This creates a pair of numbers, which is a sort of vector. We will get to that eventually.\n",
    "\n",
    "We can also compute all sorts of complicated formulas"
   ]
  },
  {
   "cell_type": "code",
   "execution_count": null,
   "id": "43ccdfa8",
   "metadata": {
    "scrolled": true
   },
   "outputs": [],
   "source": [
    "1 + sin(pi/2) + 4^(log(7)/log(2))"
   ]
  },
  {
   "cell_type": "markdown",
   "id": "8f06ddb1",
   "metadata": {},
   "source": [
    "Wait a minute! Is that an integer number? Well... Let's just continue for now.\n",
    "\n",
    "You should be able to click on any cell and modify its content. So go ahead, click on the formula above and change it for any other computation you can think of. Then press Shift+Enter again and it will be recomputed."
   ]
  },
  {
   "cell_type": "markdown",
   "id": "f83f224b",
   "metadata": {},
   "source": [
    "We can assign values to a variable and then use it later on. To see this, execute the next two code blocks with Ctrl+Enter."
   ]
  },
  {
   "cell_type": "code",
   "execution_count": null,
   "id": "35325c27",
   "metadata": {},
   "outputs": [],
   "source": [
    "question = 21"
   ]
  },
  {
   "cell_type": "code",
   "execution_count": null,
   "id": "254c6b42",
   "metadata": {},
   "outputs": [],
   "source": [
    "2*question"
   ]
  },
  {
   "cell_type": "markdown",
   "id": "4bfa7e78",
   "metadata": {},
   "source": [
    "We are now going to define a new function. Pay attention to the format and the keywords `function` and `end`."
   ]
  },
  {
   "cell_type": "code",
   "execution_count": null,
   "id": "546332fc",
   "metadata": {},
   "outputs": [],
   "source": [
    "function plus_one(a)\n",
    "    return a+1\n",
    "end"
   ]
  },
  {
   "cell_type": "markdown",
   "id": "e0206d0d",
   "metadata": {},
   "source": [
    "We can now use our new function in the following computations."
   ]
  },
  {
   "cell_type": "code",
   "execution_count": null,
   "id": "ef90cf3d",
   "metadata": {},
   "outputs": [],
   "source": [
    "plus_one(4)+5"
   ]
  },
  {
   "cell_type": "markdown",
   "id": "54385fe9",
   "metadata": {},
   "source": [
    "*Julia* has plenty of predefined functions that we can use. Our code will typically involve some of them and define some of our own when necessary. The following is arguably a more interesting function."
   ]
  },
  {
   "cell_type": "code",
   "execution_count": null,
   "id": "d43c91d1",
   "metadata": {},
   "outputs": [],
   "source": [
    "function heavyside(x)\n",
    "    if x>0 \n",
    "        return 1\n",
    "    else\n",
    "        return -1\n",
    "    end\n",
    "end"
   ]
  },
  {
   "cell_type": "markdown",
   "id": "7654da61",
   "metadata": {},
   "source": [
    "In this function we see an example of the **if/else** construct. As you would imagine, it executes the code in each section according to the condition. *Julia* is a relatively simple programming language. Yet, there are several more constructs like this. Fortunately, you can solve every homework project for this class using only a few of them.\n",
    "\n",
    "There are two kinds of loops that I want to discuss **for-loops** and **while-loops**. Like above, we learn them by looking at examples.\n",
    "\n",
    "The following function computes the sum of all the integer numbers up to n"
   ]
  },
  {
   "cell_type": "code",
   "execution_count": null,
   "id": "1416b181",
   "metadata": {},
   "outputs": [],
   "source": [
    "function sum_up_to(n)\n",
    "    sum = 0\n",
    "    for term in 1:n\n",
    "        sum = sum + term\n",
    "    end\n",
    "    return sum\n",
    "end"
   ]
  },
  {
   "cell_type": "markdown",
   "id": "1314c351",
   "metadata": {},
   "source": [
    "Pay attention to the **for**-block inside the function. As you are noticing already, every code block in *Julia* ends with the keyword `end`. Here, the code `sum = sum + term` is executed for all values of `term` in the range `1:n`.\n",
    "\n",
    "The following is an example of a while block."
   ]
  },
  {
   "cell_type": "code",
   "execution_count": null,
   "id": "dd43648b",
   "metadata": {},
   "outputs": [],
   "source": [
    "function square_root(y)\n",
    "    x = y\n",
    "    while abs(x^2-y) > 0.000000001 * y\n",
    "        x = (x + y/x)/2\n",
    "    end\n",
    "    return x\n",
    "end    "
   ]
  },
  {
   "cell_type": "code",
   "execution_count": null,
   "id": "9c06bac4",
   "metadata": {},
   "outputs": [],
   "source": [
    "square_root(25)"
   ]
  },
  {
   "cell_type": "markdown",
   "id": "ca3b3ca9",
   "metadata": {},
   "source": [
    "The previous function computes an approximation of the square root of `y` using Heron's alorithm, which is described in the first chapter of the book. The code `x = (x + y/x)/2` is executed several times, for as long as the condition `abs(x^2-y) > 0.000000001 * y` holds."
   ]
  },
  {
   "cell_type": "markdown",
   "id": "66f5921c",
   "metadata": {},
   "source": [
    "The structures discussed above can be combined to write arbitrarily complex pieces of code."
   ]
  },
  {
   "cell_type": "markdown",
   "id": "f4661959",
   "metadata": {},
   "source": [
    "There are a few code examples in the book written in *Octave*. It is another programming languate. It is very similar but not identical to *Julia*. "
   ]
  },
  {
   "cell_type": "markdown",
   "id": "a27be808",
   "metadata": {},
   "source": [
    "## Further comments"
   ]
  },
  {
   "cell_type": "markdown",
   "id": "ea3b7a7a",
   "metadata": {},
   "source": [
    "*Julia* is a general purpose programming language that is well suited for scientific computations. There is infinitely more stuff you can learn about it. If you are interested, you can go [here](https://julialang.org/learning/). Or just look at the [cheat sheet](https://juliadocs.github.io/Julia-Cheat-Sheet/).\n",
    "\n",
    "There is a more or less [similar class](https://github.com/mitmath/18330) taught at MIT also using Julia."
   ]
  },
  {
   "cell_type": "markdown",
   "id": "ea6279cf",
   "metadata": {},
   "source": [
    "### About scopes and global variables\n",
    "\n",
    "Every variable in *Julia*, and in most reasonable programming languages, has a *scope*. It refers to the places, inside our code, where the variable can be referenced. For example, the variable `sum`, which is defined inside the function `sum_up_to`, cannot be used outside of the code block of that function. The variable `question`, that we defined at the beginning, is *global*. That means that its scope is everywhere. The makers of *Julia* do not want us to use global variables, so they made it a bit cumbersome to use them. For example, the following code computes the product of the first ten integer numbers."
   ]
  },
  {
   "cell_type": "code",
   "execution_count": null,
   "id": "b967af44",
   "metadata": {},
   "outputs": [],
   "source": [
    "product = 1\n",
    "for factor in 1:10\n",
    "    global product = product * factor\n",
    "end\n",
    "println(product)"
   ]
  },
  {
   "cell_type": "markdown",
   "id": "995c8c2f",
   "metadata": {},
   "source": [
    "We use the keyword `global` to be able to write to a global variable inside the *for*-block.\n",
    "\n",
    "Note also the last command `println` which we use to print something."
   ]
  },
  {
   "cell_type": "markdown",
   "id": "296b5fb3",
   "metadata": {},
   "source": [
    "### Types\n",
    "\n",
    "Every variable in *Julia* has a type. I think you can stay oblivious of them and do all the homework projects in this class. But a proper Julia programmer would not like the way I defined the functions `sum_up_to` and `square_root` above because they do not spefify the type of their parameters.\n",
    "\n",
    "The following would be more appropriate."
   ]
  },
  {
   "cell_type": "code",
   "execution_count": null,
   "id": "d2b7ef3f",
   "metadata": {},
   "outputs": [],
   "source": [
    "function well_done_sum_up_to(n::Integer)\n",
    "    sum = 0\n",
    "    for term in 1:n\n",
    "        sum = sum + term\n",
    "    end\n",
    "    return sum\n",
    "end"
   ]
  },
  {
   "cell_type": "markdown",
   "id": "1ed7b095",
   "metadata": {},
   "source": [
    "Here, we specify that the parameter n must be an integer number. If we attempt to execute this function with a non-integer value of n, we will get the correct error message. Try it."
   ]
  },
  {
   "cell_type": "code",
   "execution_count": null,
   "id": "d45795c1",
   "metadata": {},
   "outputs": [],
   "source": [
    "well_done_sum_up_to(1.5)"
   ]
  },
  {
   "cell_type": "markdown",
   "id": "400dbde3",
   "metadata": {},
   "source": [
    "Conversely, our previous function would try to run with n=1.5, producing unpredictable results. Try it"
   ]
  },
  {
   "cell_type": "code",
   "execution_count": null,
   "id": "e8ccb6f7",
   "metadata": {},
   "outputs": [],
   "source": [
    "sum_up_to(1.5)"
   ]
  },
  {
   "cell_type": "markdown",
   "id": "21206073",
   "metadata": {},
   "source": [
    "### Matrices, vector and tensors\n",
    "\n",
    "Julia has a convenient *Array* class that allows us to deal with vectors and matrices. We will talk about it in a future tutorial. Here is a preview, without further explanation."
   ]
  },
  {
   "cell_type": "code",
   "execution_count": null,
   "id": "fde0b643",
   "metadata": {},
   "outputs": [],
   "source": [
    "A = [ 1 2 \n",
    "3 4]\n",
    "b = [1 0]'\n",
    "A*b"
   ]
  },
  {
   "cell_type": "code",
   "execution_count": null,
   "id": "2ab4cbbe",
   "metadata": {},
   "outputs": [],
   "source": [
    "b[1], b[2], A[2,1], A[1,2]"
   ]
  },
  {
   "cell_type": "code",
   "execution_count": null,
   "id": "0a1cc672",
   "metadata": {},
   "outputs": [],
   "source": [
    "display(A*A)"
   ]
  },
  {
   "cell_type": "code",
   "execution_count": null,
   "id": "e5bf55b3",
   "metadata": {},
   "outputs": [],
   "source": [
    "B = rand(10,10)"
   ]
  },
  {
   "cell_type": "code",
   "execution_count": null,
   "id": "a88b01ce",
   "metadata": {},
   "outputs": [],
   "source": [
    "sum_all_B = 0\n",
    "for x in B\n",
    "    sum_all_B = sum_all_B + x\n",
    "end\n",
    "println(sum_all_B)"
   ]
  },
  {
   "cell_type": "markdown",
   "id": "c84a38b9",
   "metadata": {},
   "source": [
    "### Saving your work.\n",
    "\n",
    "The biggest advantage of installing *Julia* and *Jupyter* on your own computer is that it makes it easy to save your notebooks, stop and continue later.\n",
    "\n",
    "MyBinder will time-out if you leave it unattended for a little bit. In fact it has a notoriously short timeout for sessions, so be careful. It allows you to download your notebooks and also print them out."
   ]
  },
  {
   "cell_type": "markdown",
   "id": "6dd4a686",
   "metadata": {},
   "source": [
    "### Just play with it.\n",
    "\n",
    "Now go ahead and play with this notebook as you wish. Try modifying the code above, and also enter new cells of your own."
   ]
  }
 ],
 "metadata": {
  "kernelspec": {
   "display_name": "Julia 1.9.0",
   "language": "julia",
   "name": "julia-1.9"
  },
  "language_info": {
   "file_extension": ".jl",
   "mimetype": "application/julia",
   "name": "julia",
   "version": "1.9.0"
  }
 },
 "nbformat": 4,
 "nbformat_minor": 5
}
