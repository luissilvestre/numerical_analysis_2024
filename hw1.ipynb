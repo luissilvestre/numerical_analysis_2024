{
 "cells": [
  {
   "cell_type": "markdown",
   "id": "c4c3d6d4",
   "metadata": {},
   "source": [
    "# Homework 1\n",
    "\n",
    "To begin this homework, solve exercises 1.6 and 2.5 from the book. You must write the solutions in a separate piece of paper.\n",
    "\n",
    "In this notebook we explore some algorithms to solve nonlinear equations.\n",
    "\n",
    "Our objective is to find x so that $\\sin x = 0.2$. Since the sine function is periodic, we will look for $x$ in the interval $[0,\\pi/2]$.\n",
    "\n",
    "Let us start by defining the function $f(x) = \\sin(x) - 0.2$. We want to find $x \\in [0,\\pi/2]$ so that $f(x) = 0$. We also define the derivative of $f$, because we need it for Newton's method."
   ]
  },
  {
   "cell_type": "code",
   "execution_count": null,
   "id": "6c5c5199",
   "metadata": {},
   "outputs": [],
   "source": [
    "function f(x)\n",
    "    return sin(x) - 0.2\n",
    "end"
   ]
  },
  {
   "cell_type": "code",
   "execution_count": null,
   "id": "a817b18b",
   "metadata": {},
   "outputs": [],
   "source": [
    "function df(x)\n",
    "    return cos(x)\n",
    "end"
   ]
  },
  {
   "cell_type": "markdown",
   "id": "7c8ea46f",
   "metadata": {},
   "source": [
    "Actually, we can find the right value of $x$ without much work by applying the built-in asin function. Let's do it just to make sure our code below works well."
   ]
  },
  {
   "cell_type": "code",
   "execution_count": null,
   "id": "2290ba6d",
   "metadata": {},
   "outputs": [],
   "source": [
    "x_exact = asin(0.2)"
   ]
  },
  {
   "cell_type": "markdown",
   "id": "0020ad04",
   "metadata": {},
   "source": [
    "The following code implements Newton's method. We discussed it in class. I also included the variable `counter` here, that keeps track of the number of iterations. It gets printed out at the end. If we iterate too many times, the program stops and returns nothing.\n",
    "\n",
    "In the code below, we assign a default value 1e-20 to the variable `tolerance`. That means that whenever we call the `newton` function later, its 4th parameter is optional."
   ]
  },
  {
   "cell_type": "code",
   "execution_count": null,
   "id": "67839295",
   "metadata": {},
   "outputs": [],
   "source": [
    "function newton(f::Function,df::Function,x0::Real,tolerance::Real=1e-15)\n",
    "    x = x0\n",
    "    counter = 0\n",
    "    while abs(f(x)) > tolerance\n",
    "        x = x - f(x) / df(x)\n",
    "        counter = counter + 1\n",
    "        if counter > 1000\n",
    "            println(\"We give up!\")\n",
    "            return\n",
    "        end\n",
    "    end\n",
    "    println(\"We performed \", counter, \" iterations.\")\n",
    "    return x\n",
    "end"
   ]
  },
  {
   "cell_type": "markdown",
   "id": "ef1fcbc9",
   "metadata": {},
   "source": [
    "Let's try it. I guess that if we start with $x_0 = \\pi/4$ the sequence should converge to the right value."
   ]
  },
  {
   "cell_type": "code",
   "execution_count": null,
   "id": "661a4650",
   "metadata": {},
   "outputs": [],
   "source": [
    "x_newton = newton(f,df,pi/4)"
   ]
  },
  {
   "cell_type": "markdown",
   "id": "c81e0483",
   "metadata": {},
   "source": [
    "We got the right value after very few iterations. It works very well in this case. Note that we had to define the derivative of the function beforehand, which we may not always be able to do. We also had to guess a good initial point for the interation.\n",
    "\n",
    "Let us implement the secant method now. That's up to you."
   ]
  },
  {
   "cell_type": "code",
   "execution_count": null,
   "id": "92af5395",
   "metadata": {},
   "outputs": [],
   "source": [
    "function secant(f::Function,x0::Real,x1::Real,tolerance::Real=1e-15)\n",
    "    counter = 0\n",
    "    while abs(f(x1)) > tolerance\n",
    "        # Replace the following line with the right formula for x2.\n",
    "        x2 = ...\n",
    "        x0 = x1\n",
    "        x1 = x2\n",
    "        counter = counter + 1\n",
    "        if counter > 1000\n",
    "            println(\"We give up!\")\n",
    "            return\n",
    "        end\n",
    "    end\n",
    "     println(\"We performed \", counter, \" iterations.\")\n",
    "    return x1\n",
    "end\n",
    "    "
   ]
  },
  {
   "cell_type": "code",
   "execution_count": null,
   "id": "03bd9983",
   "metadata": {},
   "outputs": [],
   "source": [
    "x_secant = secant(f,0,pi/2)"
   ]
  },
  {
   "cell_type": "markdown",
   "id": "4db8649a",
   "metadata": {},
   "source": [
    "It seems to be working fairly well as well.\n",
    "\n",
    "Let us implement a couple of other methods. First, we will do a silly binary search. We notice that since we know that $\\sin 0 = 0 < 0.2$ and also $\\sin \\pi/2 = 1 > 0.2$, the value of $x$ so that $\\sin x = 0.2$ must be in between. Then we bisect this interval, check the value of sine at the new enpoint, and continue with the new subinterval where it changes sign. Here is the implementation."
   ]
  },
  {
   "cell_type": "code",
   "execution_count": null,
   "id": "71a836d0",
   "metadata": {},
   "outputs": [],
   "source": [
    "function binary_search(f::Function,x0::Real,x1::Real,tolerance::Real=1e-15)\n",
    "    counter = 0\n",
    "    while abs(f(x1)) > tolerance\n",
    "        x2 = (x0+x1)/2\n",
    "        if f(x2)>=0 \n",
    "            x1 = x2\n",
    "        else\n",
    "            x0 = x2\n",
    "        end\n",
    "        counter = counter + 1\n",
    "        if counter > 1000\n",
    "            println(\"We give up!\")\n",
    "            return\n",
    "        end\n",
    "    end\n",
    "     println(\"We performed \", counter, \" iterations.\")\n",
    "    return x1\n",
    "end"
   ]
  },
  {
   "cell_type": "code",
   "execution_count": null,
   "id": "a8569f2d",
   "metadata": {},
   "outputs": [],
   "source": [
    "x_binary = binary_search(f,0,pi/2)"
   ]
  },
  {
   "cell_type": "markdown",
   "id": "fd3768db",
   "metadata": {},
   "source": [
    "With any of these methods, the computation is immediate in our computers. Still, using this silly bisection method took many more iterations. For a more complex equation, it might make a significant difference.\n",
    "\n",
    "Let us now implement a method that combines the ideas of the secant method with the bisection method. That is, we always keep x0 and x1 being the endpoints of an interval where f changes sign. But we compute the endpoint of the next subinterval, not by bisection, but by the same computation as in the secant method. This is called *regula falsi* in the literature."
   ]
  },
  {
   "cell_type": "code",
   "execution_count": null,
   "id": "0c2498dd",
   "metadata": {},
   "outputs": [],
   "source": [
    "function regula_falsi(f::Function,x0::Real,x1::Real,tolerance::Real=1e-15)\n",
    "    counter = 0\n",
    "    while abs(f(x1)) > tolerance\n",
    "        # Replace the following line with the right formula for x2.\n",
    "        # It should be the same one that you used for the secant method.\n",
    "        x2 = ...\n",
    "        if f(x2)>=0 \n",
    "            x1 = x2\n",
    "        else\n",
    "            x0 = x2\n",
    "        end\n",
    "        counter = counter + 1\n",
    "        if counter > 1000\n",
    "            println(\"We give up!\")\n",
    "            return\n",
    "        end\n",
    "    end\n",
    "    println(\"We performed \", counter, \" iterations.\")\n",
    "    return x1\n",
    "end"
   ]
  },
  {
   "cell_type": "code",
   "execution_count": null,
   "id": "b71ab1c8",
   "metadata": {},
   "outputs": [],
   "source": [
    "x_regula = regula_falsi(f,0,pi/2)"
   ]
  },
  {
   "cell_type": "markdown",
   "id": "6b1dab93",
   "metadata": {},
   "source": [
    "### Question\n",
    "Find, approximately, the smallest positive value for `x0` so that when we execute `newton(f,df,x0)`, we get a different value.\n",
    "\n",
    "### Question\n",
    "Find, approximately, the smallest positive value for `x1` so that when we execute `secant(f,0,x1)`, we get a different value."
   ]
  },
  {
   "cell_type": "markdown",
   "id": "c3874e33",
   "metadata": {},
   "source": [
    "## Round-off errors\n",
    "\n",
    "Let us do some experiments to see the effects of round-off errors by the computer. We know that if $\\sin x = 0.2$, then we should also have $\\sin (\\pi-x) = 0$. Let us test it"
   ]
  },
  {
   "cell_type": "code",
   "execution_count": null,
   "id": "688f88d4",
   "metadata": {},
   "outputs": [],
   "source": [
    "sin(x_exact)-0.2, sin(pi-x_exact)-0.2"
   ]
  },
  {
   "cell_type": "markdown",
   "id": "f93c9881",
   "metadata": {},
   "source": [
    "It might vary in different versions of Julia, and perhaps in different computers. The second number I got is slightly off. Subtracting two numbers of approximately the same size typically produces errors on a computer program. But the extent of these errors is difficult to predict."
   ]
  },
  {
   "cell_type": "markdown",
   "id": "4926e345",
   "metadata": {},
   "source": [
    "It is probably a good idea to play around with these functions for a little while."
   ]
  },
  {
   "cell_type": "markdown",
   "id": "39c88f4a",
   "metadata": {},
   "source": [
    "## Question\n",
    "\n",
    "The following is a relatively classical question. There is a circular field of grass of radius one. A cow is tied to a stake on the edge. How long should the rope be so that the cow is able to eat exactly half of the grass?\n",
    "\n",
    "Since this is only the first week, I will help you out (do not get used to it). After you make a drawing, whink for a little while, and write a few trigonometric functions, you get to the following formula. Here $r$ is the radius of the rope and $A$ is the area. Set $\\alpha = 2 \\arcsin(r/2)$ and $\\beta = \\pi-\\alpha$. We get\n",
    "$$A = \\alpha + r^2 \\frac \\beta 2 - \\frac r 2 \\sqrt{ 4 - r^2 }$$\n",
    "\n",
    "You can take this formula for granted to answer the question above."
   ]
  },
  {
   "cell_type": "code",
   "execution_count": null,
   "id": "6ca3d27a",
   "metadata": {},
   "outputs": [],
   "source": []
  }
 ],
 "metadata": {
  "kernelspec": {
   "display_name": "Julia 1.9.3",
   "language": "julia",
   "name": "julia-1.9"
  },
  "language_info": {
   "file_extension": ".jl",
   "mimetype": "application/julia",
   "name": "julia",
   "version": "1.9.3"
  }
 },
 "nbformat": 4,
 "nbformat_minor": 5
}
