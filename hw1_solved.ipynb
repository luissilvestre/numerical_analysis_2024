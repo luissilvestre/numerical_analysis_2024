{
 "cells": [
  {
   "cell_type": "markdown",
   "id": "c4c3d6d4",
   "metadata": {},
   "source": [
    "# Homework 1\n",
    "\n",
    "In this notebook we explore some algorithms to solve nonlinear equations.\n",
    "\n",
    "Our objective is to find x so that $\\sin x = 0.2$. Since the sine function is periodic, we will look for $x$ in the interval $[0,\\pi/2]$.\n",
    "\n",
    "Let us start by defining the function $f(x) = \\sin(x) - 0.2$. We want to find $x \\in [0,\\pi/2]$ so that $f(x) = 0$. We also define the derivative of $f$, because we need it for Newton's method."
   ]
  },
  {
   "cell_type": "code",
   "execution_count": 1,
   "id": "6c5c5199",
   "metadata": {},
   "outputs": [
    {
     "data": {
      "text/plain": [
       "f (generic function with 1 method)"
      ]
     },
     "execution_count": 1,
     "metadata": {},
     "output_type": "execute_result"
    }
   ],
   "source": [
    "function f(x)\n",
    "    return sin(x) - 0.2\n",
    "end"
   ]
  },
  {
   "cell_type": "code",
   "execution_count": 2,
   "id": "a817b18b",
   "metadata": {},
   "outputs": [
    {
     "data": {
      "text/plain": [
       "df (generic function with 1 method)"
      ]
     },
     "execution_count": 2,
     "metadata": {},
     "output_type": "execute_result"
    }
   ],
   "source": [
    "function df(x)\n",
    "    return cos(x)\n",
    "end"
   ]
  },
  {
   "cell_type": "markdown",
   "id": "7c8ea46f",
   "metadata": {},
   "source": [
    "Actually, we can find the right value of $x$ without much work by applying the built-in asin function. Let's do it just to make sure our code below works well."
   ]
  },
  {
   "cell_type": "code",
   "execution_count": 3,
   "id": "2290ba6d",
   "metadata": {},
   "outputs": [
    {
     "data": {
      "text/plain": [
       "0.2013579207903308"
      ]
     },
     "execution_count": 3,
     "metadata": {},
     "output_type": "execute_result"
    }
   ],
   "source": [
    "x_exact = asin(0.2)"
   ]
  },
  {
   "cell_type": "markdown",
   "id": "0020ad04",
   "metadata": {},
   "source": [
    "The following code implements Newton's method. We discussed it in class. I also included the variable `counter` here, that keeps track of the number of iterations. It gets printed out at the end. If we iterate too many times, the program stops and returns nothing.\n",
    "\n",
    "In the code below, we assign a default value 1e-20 to the variable `tolerance`. That means that whenever we call the `newton` function later, its 4th parameter is optional."
   ]
  },
  {
   "cell_type": "code",
   "execution_count": 4,
   "id": "67839295",
   "metadata": {},
   "outputs": [
    {
     "data": {
      "text/plain": [
       "newton (generic function with 2 methods)"
      ]
     },
     "execution_count": 4,
     "metadata": {},
     "output_type": "execute_result"
    }
   ],
   "source": [
    "function newton(f::Function,df::Function,x0::Real,tolerance::Real=1e-15)\n",
    "    x = x0\n",
    "    counter = 0\n",
    "    while abs(f(x)) > tolerance\n",
    "        x = x - f(x) / df(x)\n",
    "        counter = counter + 1\n",
    "        if counter > 1000\n",
    "            println(\"We give up!\")\n",
    "            return\n",
    "        end\n",
    "    end\n",
    "    println(\"We performed \", counter, \" iterations.\")\n",
    "    return x\n",
    "end"
   ]
  },
  {
   "cell_type": "markdown",
   "id": "ef1fcbc9",
   "metadata": {},
   "source": [
    "Let's try it. I guess that if we start with $x_0 = \\pi/4$ the sequence should converge to the right value."
   ]
  },
  {
   "cell_type": "code",
   "execution_count": 5,
   "id": "661a4650",
   "metadata": {},
   "outputs": [
    {
     "name": "stdout",
     "output_type": "stream",
     "text": [
      "We performed 5 iterations.\n"
     ]
    },
    {
     "data": {
      "text/plain": [
       "0.2013579207903308"
      ]
     },
     "execution_count": 5,
     "metadata": {},
     "output_type": "execute_result"
    }
   ],
   "source": [
    "x_newton = newton(f,df,pi/4)"
   ]
  },
  {
   "cell_type": "markdown",
   "id": "c81e0483",
   "metadata": {},
   "source": [
    "We got the right value after very few iterations. It works very well in this case. Note that we had to define the derivative of the function beforehand, which we may not always be able to do. We also had to guess a good initial point for the interation.\n",
    "\n",
    "Let us implement the secant method now. That's up to you."
   ]
  },
  {
   "cell_type": "code",
   "execution_count": 6,
   "id": "92af5395",
   "metadata": {},
   "outputs": [
    {
     "data": {
      "text/plain": [
       "secant (generic function with 2 methods)"
      ]
     },
     "execution_count": 6,
     "metadata": {},
     "output_type": "execute_result"
    }
   ],
   "source": [
    "function secant(f::Function,x0::Real,x1::Real,tolerance::Real=1e-15)\n",
    "    counter = 0\n",
    "    while abs(f(x1)) > tolerance\n",
    "        # Replace the following line with the right formula for x2.\n",
    "        x2 = (x1*f(x0)-x0*f(x1))/(f(x0)-f(x1))\n",
    "        x0 = x1\n",
    "        x1 = x2\n",
    "        counter = counter + 1\n",
    "        if counter > 1000\n",
    "            println(\"We give up!\")\n",
    "            return\n",
    "        end\n",
    "    end\n",
    "     println(\"We performed \", counter, \" iterations.\")\n",
    "    return x1\n",
    "end\n",
    "    "
   ]
  },
  {
   "cell_type": "code",
   "execution_count": 7,
   "id": "03bd9983",
   "metadata": {},
   "outputs": [
    {
     "name": "stdout",
     "output_type": "stream",
     "text": [
      "We performed 6 iterations.\n"
     ]
    },
    {
     "data": {
      "text/plain": [
       "0.20135792079033143"
      ]
     },
     "execution_count": 7,
     "metadata": {},
     "output_type": "execute_result"
    }
   ],
   "source": [
    "x_secant = secant(f,0,pi/2)"
   ]
  },
  {
   "cell_type": "markdown",
   "id": "4db8649a",
   "metadata": {},
   "source": [
    "It seems to be working fairly well as well.\n",
    "\n",
    "Let us implement a couple of other methods. First, we will do a silly binary search. We notice that since we know that $\\sin 0 = 0 < 0.2$ and also $\\sin \\pi/2 = 1 > 0.2$, the value of $x$ so that $\\sin x = 0.2$ must be in between. Then we bisect this interval, check the value of sine at the new enpoint, and continue with the new subinterval where it changes sign. Here is the implementation."
   ]
  },
  {
   "cell_type": "code",
   "execution_count": 8,
   "id": "71a836d0",
   "metadata": {},
   "outputs": [
    {
     "data": {
      "text/plain": [
       "binary_search (generic function with 2 methods)"
      ]
     },
     "execution_count": 8,
     "metadata": {},
     "output_type": "execute_result"
    }
   ],
   "source": [
    "function binary_search(f::Function,x0::Real,x1::Real,tolerance::Real=1e-15)\n",
    "    counter = 0\n",
    "    while abs(f(x1)) > tolerance\n",
    "        x2 = (x0+x1)/2\n",
    "        if f(x2)>=0 \n",
    "            x1 = x2\n",
    "        else\n",
    "            x0 = x2\n",
    "        end\n",
    "        counter = counter + 1\n",
    "        if counter > 1000\n",
    "            println(\"We give up!\")\n",
    "            return\n",
    "        end\n",
    "    end\n",
    "     println(\"We performed \", counter, \" iterations.\")\n",
    "    return x1\n",
    "end"
   ]
  },
  {
   "cell_type": "code",
   "execution_count": 9,
   "id": "a8569f2d",
   "metadata": {},
   "outputs": [
    {
     "name": "stdout",
     "output_type": "stream",
     "text": [
      "We performed 47 iterations.\n"
     ]
    },
    {
     "data": {
      "text/plain": [
       "0.20135792079033127"
      ]
     },
     "execution_count": 9,
     "metadata": {},
     "output_type": "execute_result"
    }
   ],
   "source": [
    "x_binary = binary_search(f,0,pi/2)"
   ]
  },
  {
   "cell_type": "markdown",
   "id": "fd3768db",
   "metadata": {},
   "source": [
    "With any of these methods, the computation is immediate in our computers. Still, using this silly bisection method took many more iterations. For a more complex equation, it might make a significant difference.\n",
    "\n",
    "Let us now implement a method that combines the ideas of the secant method with the bisection method. That is, we always keep x0 and x1 being the endpoints of an interval where f changes sign. But we compute the endpoint of the next subinterval, not by bisection, but by the same computation as in the secant method. This is called *regula falsi* in the literature."
   ]
  },
  {
   "cell_type": "code",
   "execution_count": 10,
   "id": "0c2498dd",
   "metadata": {},
   "outputs": [
    {
     "data": {
      "text/plain": [
       "regula_falsi (generic function with 2 methods)"
      ]
     },
     "execution_count": 10,
     "metadata": {},
     "output_type": "execute_result"
    }
   ],
   "source": [
    "function regula_falsi(f::Function,x0::Real,x1::Real,tolerance::Real=1e-15)\n",
    "    counter = 0\n",
    "    while abs(f(x1)) > tolerance\n",
    "        # Replace the following line with the right formula for x2.\n",
    "        # It should be the same one that you used for the secant method.\n",
    "        x2 = (x1*f(x0)-x0*f(x1))/(f(x0)-f(x1))\n",
    "        if f(x2)>=0 \n",
    "            x1 = x2\n",
    "        else\n",
    "            x0 = x2\n",
    "        end\n",
    "        counter = counter + 1\n",
    "        if counter > 1000\n",
    "            println(\"We give up!\")\n",
    "            return\n",
    "        end\n",
    "    end\n",
    "    println(\"We performed \", counter, \" iterations.\")\n",
    "    if abs(f(x1)) < abs(f(x0)) \n",
    "        return x1\n",
    "    else\n",
    "        return x0\n",
    "    end\n",
    "end"
   ]
  },
  {
   "cell_type": "code",
   "execution_count": 11,
   "id": "b71ab1c8",
   "metadata": {},
   "outputs": [
    {
     "name": "stdout",
     "output_type": "stream",
     "text": [
      "We performed 9 iterations.\n"
     ]
    },
    {
     "data": {
      "text/plain": [
       "0.20135792079033096"
      ]
     },
     "execution_count": 11,
     "metadata": {},
     "output_type": "execute_result"
    }
   ],
   "source": [
    "x_regula = regula_falsi(f,0,pi/2)"
   ]
  },
  {
   "cell_type": "markdown",
   "id": "562bb552",
   "metadata": {},
   "source": [
    "### Question\n",
    "Find, approximately, the smallest positive value for `x0` so that when we execute `newton(f,df,x0)`, we get a different value.\n",
    "\n",
    "### Question\n",
    "Find, approximately, the smallest positive value for `x1` so that when we execute `secant(f,0,x1)`, we get a different value."
   ]
  },
  {
   "cell_type": "markdown",
   "id": "0e0075f7",
   "metadata": {},
   "source": [
    "## Round-off errors\n",
    "\n",
    "Let us do some experiments to see the effects of round-off errors by the computer. We know that if $\\sin x = 0.2$, then we should also have $\\sin (\\pi-x) = 0$. Let us test it"
   ]
  },
  {
   "cell_type": "code",
   "execution_count": 12,
   "id": "792bb894",
   "metadata": {},
   "outputs": [
    {
     "data": {
      "text/plain": [
       "(0.0, 1.942890293094024e-16)"
      ]
     },
     "execution_count": 12,
     "metadata": {},
     "output_type": "execute_result"
    }
   ],
   "source": [
    "sin(x_exact)-0.2, sin(pi-x_exact)-0.2"
   ]
  },
  {
   "cell_type": "markdown",
   "id": "f6bdde06",
   "metadata": {},
   "source": [
    "It might vary in different versions of Julia, and perhaps in different computers. The second number I got is slightly off. Subtracting two numbers of approximately the same size typically produces errors on a computer program. But the extent of these errors is difficult to predict."
   ]
  },
  {
   "cell_type": "markdown",
   "id": "4855e781",
   "metadata": {},
   "source": [
    "It is probably a good idea to play around with these functions for a little while."
   ]
  },
  {
   "cell_type": "markdown",
   "id": "0c6fcc31",
   "metadata": {},
   "source": [
    "## Question\n",
    "\n",
    "The followins is a relatively classical question. There is a circular field of grass of radius one. A cow is tied to a stake on the edge. How long should the rope be so that the cow is able to eat exactly half of the grass?\n",
    "\n",
    "Since this is only the first week, I will help you out  (do not get used to this). After you make a drawing, whink for a little while, and write a few trigonometric functions, you get to the following formula. Here $r$ is the radius of the rope and $A$ is the area. Set $\\alpha = 2 \\arcsin(r/2)$ and $\\beta = \\pi-\\alpha$. We get\n",
    "$$A = \\alpha + r^2 \\frac \\beta 2 - \\frac r 2 \\sqrt{ 4 - r^2 }$$\n",
    "\n",
    "You can take this formula for granted to answer the question above."
   ]
  },
  {
   "cell_type": "code",
   "execution_count": 13,
   "id": "fc80f343",
   "metadata": {},
   "outputs": [
    {
     "name": "stdout",
     "output_type": "stream",
     "text": [
      "We performed 6 iterations.\n"
     ]
    },
    {
     "data": {
      "text/plain": [
       "1.1587284730181215"
      ]
     },
     "execution_count": 13,
     "metadata": {},
     "output_type": "execute_result"
    }
   ],
   "source": [
    "function cow(r::Real)\n",
    "    α = 2*asin(r/2)\n",
    "    β = pi - α\n",
    "    Area = α + r^2 * β / 2 - r/2 * sqrt(4-r^2)\n",
    "    return Area - pi/2\n",
    "end\n",
    "\n",
    "secant(cow,0,1.5)\n",
    "    "
   ]
  },
  {
   "cell_type": "markdown",
   "id": "0fbe6566-f03a-4d4e-9701-b49140d38873",
   "metadata": {},
   "source": [
    "# Challenge\n",
    "\n",
    "For the challenge question we use BigFloat. It is a data type that introduces floating point numbers of arbitrary precision.\n",
    "\n",
    "We use an exageratedly large amout of bits to be sure. I set the precision to 300,000 binary digits. It is roughly equivalent to 100,000 decimal digits. Then we run the secant method with precision 1e-75000. Again, this is more than enough. Finally, we display the first 50000 digits."
   ]
  },
  {
   "cell_type": "code",
   "execution_count": 15,
   "id": "7abf638b-3c02-4c4b-92db-12e2d3fd89c1",
   "metadata": {},
   "outputs": [
    {
     "data": {
      "text/plain": [
       "cow (generic function with 2 methods)"
      ]
     },
     "execution_count": 15,
     "metadata": {},
     "output_type": "execute_result"
    }
   ],
   "source": [
    "setprecision(BigFloat,300000)\n",
    "\n",
    "# We modify the function cow to use a precise approximation of pi.\n",
    "\n",
    "function cow(r::BigFloat)\n",
    "    α = 2*asin(r/2)\n",
    "    β = pi - α\n",
    "    Area = α + r^2 * β / 2 - r/2 * sqrt(4-r^2)\n",
    "    return Area - BigFloat(pi)/2\n",
    "end"
   ]
  },
  {
   "cell_type": "code",
   "execution_count": 16,
   "id": "44ba0fb0-8a1a-4927-aacd-d39aacae9c3c",
   "metadata": {},
   "outputs": [
    {
     "name": "stdout",
     "output_type": "stream",
     "text": [
      "We performed 23 iterations.\n"
     ]
    },
    {
     "data": {
      "text/plain": [
       "\"1.1587284730181215178282335099335091496882922664920965118206958848206698025591960931993216107308604381759674951803405182901392508985190992648315448469064799414791317485292123564021555016323125555068614107819723352355017317306534399883035057982248155293321714183593309129\" ⋯ 49462 bytes ⋯ \"86729877434761822489457974226550332590927051903681731158958841675391333979958305643732400000774011375888851028693653661126374569511098037397077907915506707415699769272491545182240174642025420230132544136802326522292465882188302201561785746417952045108704274686197966156\""
      ]
     },
     "execution_count": 16,
     "metadata": {},
     "output_type": "execute_result"
    }
   ],
   "source": [
    "res = secant(cow,big\"0\",big\"1.5\",big\"1e-75000\")\n",
    "string(res)[1:50001]"
   ]
  },
  {
   "cell_type": "markdown",
   "id": "0c356f94-213a-476d-af22-61cbdf813821",
   "metadata": {},
   "source": [
    "Note that if we try to use the binary_search method instead of the secant method, it takes too many iterations and it ends up failing."
   ]
  },
  {
   "cell_type": "code",
   "execution_count": 17,
   "id": "63450120-e44f-4891-b245-f44d4e0bf026",
   "metadata": {},
   "outputs": [
    {
     "name": "stdout",
     "output_type": "stream",
     "text": [
      "We give up!\n"
     ]
    }
   ],
   "source": [
    "res = binary_search(cow,big\"0\",big\"1.5\",big\"1e-10000\")"
   ]
  },
  {
   "cell_type": "code",
   "execution_count": null,
   "id": "20afac6d-69dd-40d2-af48-ffa5a912d3cf",
   "metadata": {},
   "outputs": [],
   "source": []
  }
 ],
 "metadata": {
  "kernelspec": {
   "display_name": "Julia 1.9.3",
   "language": "julia",
   "name": "julia-1.9"
  },
  "language_info": {
   "file_extension": ".jl",
   "mimetype": "application/julia",
   "name": "julia",
   "version": "1.9.3"
  }
 },
 "nbformat": 4,
 "nbformat_minor": 5
}
