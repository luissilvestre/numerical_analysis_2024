{
 "cells": [
  {
   "cell_type": "markdown",
   "id": "d5d4aa51",
   "metadata": {},
   "source": [
    "# Using vectors and Matrices in Julia\n",
    "\n",
    "Julia has a very convenient Array type that we use for operations with vectors and matrices.\n",
    "\n",
    "As usual, I will show you several examples.\n",
    "\n",
    "## Initializing a matrix with zeros\n",
    "\n",
    "The easiest way to define a vector is arguably with the function `zeros`. The following gives us a 5-dimensional vector with a zero in every coordinate."
   ]
  },
  {
   "cell_type": "code",
   "execution_count": null,
   "id": "a71d4131",
   "metadata": {},
   "outputs": [],
   "source": [
    "a = zeros(5)"
   ]
  },
  {
   "cell_type": "markdown",
   "id": "6043a121",
   "metadata": {},
   "source": [
    "We can access and modify some of the entries of $a$ by using brackets. That is, if we want $a_2 = 3.5$ and $a_4 = \\pi$, we write"
   ]
  },
  {
   "cell_type": "code",
   "execution_count": null,
   "id": "83d313c2",
   "metadata": {},
   "outputs": [],
   "source": [
    "a[2] = 3.5\n",
    "a[4] = pi\n",
    "a"
   ]
  },
  {
   "cell_type": "markdown",
   "id": "3f1e5926",
   "metadata": {},
   "source": [
    "If we use two parameters, we can use zeros to define a matrix. Let us see."
   ]
  },
  {
   "cell_type": "code",
   "execution_count": null,
   "id": "8dfb1082",
   "metadata": {},
   "outputs": [],
   "source": [
    "M = zeros(5,5)"
   ]
  },
  {
   "cell_type": "markdown",
   "id": "2432b428",
   "metadata": {},
   "source": [
    "Let us change some of the numbers in M."
   ]
  },
  {
   "cell_type": "code",
   "execution_count": null,
   "id": "df879ec4",
   "metadata": {},
   "outputs": [],
   "source": [
    "M[1,1] = 1.\n",
    "M[2,1] = 2.\n",
    "M[3,3] = 3.2\n",
    "M[4,2] = sqrt(2)\n",
    "M"
   ]
  },
  {
   "cell_type": "markdown",
   "id": "f6f6014e",
   "metadata": {},
   "source": [
    "We can also get extract a full row or column of a matrix using the colon `:`. For example, this is the second column of $M$."
   ]
  },
  {
   "cell_type": "code",
   "execution_count": null,
   "id": "dc581226",
   "metadata": {
    "scrolled": true
   },
   "outputs": [],
   "source": [
    "M[:,2]"
   ]
  },
  {
   "cell_type": "markdown",
   "id": "bf7e6db4",
   "metadata": {},
   "source": [
    "And this is its second row."
   ]
  },
  {
   "cell_type": "code",
   "execution_count": null,
   "id": "ecbc4083",
   "metadata": {},
   "outputs": [],
   "source": [
    "M[2,:]"
   ]
  },
  {
   "cell_type": "markdown",
   "id": "33c1f3fe",
   "metadata": {},
   "source": [
    "In Julia, we can write Matrix and vector arithmetics naturally, and it works. For example, we can add and multiply times a scalar, both to vectors and to matrices."
   ]
  },
  {
   "cell_type": "code",
   "execution_count": null,
   "id": "21d4f18b",
   "metadata": {},
   "outputs": [],
   "source": [
    "M + 3*M"
   ]
  },
  {
   "cell_type": "code",
   "execution_count": null,
   "id": "2d85808d",
   "metadata": {},
   "outputs": [],
   "source": [
    "2*a + a"
   ]
  },
  {
   "cell_type": "markdown",
   "id": "16433233",
   "metadata": {},
   "source": [
    "We can transpose using the prime symbol `'`."
   ]
  },
  {
   "cell_type": "code",
   "execution_count": null,
   "id": "6284ddc3",
   "metadata": {},
   "outputs": [],
   "source": [
    "M'"
   ]
  },
  {
   "cell_type": "markdown",
   "id": "98256c1f",
   "metadata": {},
   "source": [
    "We can also multiply matrices together provided that the dimensions match."
   ]
  },
  {
   "cell_type": "code",
   "execution_count": null,
   "id": "f3fe9632",
   "metadata": {},
   "outputs": [],
   "source": [
    "M*M"
   ]
  },
  {
   "cell_type": "code",
   "execution_count": null,
   "id": "c7cc3a0a",
   "metadata": {},
   "outputs": [],
   "source": [
    "M*a"
   ]
  },
  {
   "cell_type": "markdown",
   "id": "1f33445b",
   "metadata": {},
   "source": [
    "The built-in function `size`, returns the size of an array."
   ]
  },
  {
   "cell_type": "code",
   "execution_count": null,
   "id": "122e20e2",
   "metadata": {},
   "outputs": [],
   "source": [
    "size(M)"
   ]
  },
  {
   "cell_type": "code",
   "execution_count": null,
   "id": "67c3e26b",
   "metadata": {},
   "outputs": [],
   "source": [
    "size(a)"
   ]
  },
  {
   "cell_type": "markdown",
   "id": "9048bc1a",
   "metadata": {},
   "source": [
    "## Writing the matrix elements explicitly.\n",
    "\n",
    "There are other way to define matrices that may be more convenient in some cases. We can simply write every element of a matrix line by line."
   ]
  },
  {
   "cell_type": "code",
   "execution_count": null,
   "id": "65f53d18",
   "metadata": {},
   "outputs": [],
   "source": [
    "M2 = [1. 2. 3.\n",
    "4. 5. 6.\n",
    "7. 8. 9.]"
   ]
  },
  {
   "cell_type": "markdown",
   "id": "edfe928a",
   "metadata": {},
   "source": [
    "I should have mentioned already that I write `4.` as opposed to `4` because I want the computer to be aware that we are working with Real numbers and not merely integers. Writing `4.` is equivalent to `4.0`. The computer understands this is a real number and stores it in floating point. If I write `4`, the computer would interpret it as an Integer number. For this class, we will always use floating point numbers."
   ]
  },
  {
   "cell_type": "markdown",
   "id": "9352cfbb",
   "metadata": {},
   "source": [
    "You may be tempted to define a vector with a row of numbers. Let us try."
   ]
  },
  {
   "cell_type": "code",
   "execution_count": null,
   "id": "42e29187",
   "metadata": {},
   "outputs": [],
   "source": [
    "b = [1. 2. 3.]"
   ]
  },
  {
   "cell_type": "markdown",
   "id": "50819b81",
   "metadata": {},
   "source": [
    "Note that we defined a row vector, not a column vector. If we try to multiply M2 with b, the dimensions do not match and we get an error."
   ]
  },
  {
   "cell_type": "code",
   "execution_count": null,
   "id": "b49ebf9d",
   "metadata": {},
   "outputs": [],
   "source": [
    "M2*b"
   ]
  },
  {
   "cell_type": "markdown",
   "id": "3589eae3",
   "metadata": {},
   "source": [
    "We can produce a column vector with the transpose `b'`. That's why the following line works."
   ]
  },
  {
   "cell_type": "code",
   "execution_count": null,
   "id": "7e697198",
   "metadata": {},
   "outputs": [],
   "source": [
    "M2 * b'"
   ]
  },
  {
   "cell_type": "markdown",
   "id": "ef6278b9",
   "metadata": {},
   "source": [
    "## Array by comprehension\n",
    "\n",
    "While the explicit definition of the matrix might look simpler, it is actually very cumbersome to define a large matrix this way. Julia has a very elegant way to define matrices *by comprehension*. For example, the Hilbert matrix is a classical test case for methods in numerical analysis. It is the following.\n",
    "$$ H = \\begin{pmatrix} 1 & 1/2 & 1/3 & 1/4 & \\dots \\\\\n",
    "1/2 & 1/3 & 1/4 & 1/5 & \\dots \\\\\n",
    "1/3 & 1/4 & 1/5 & 1/6 & \\dots \\\\\n",
    "\\dots\n",
    "\\end{pmatrix} = \\{ 1/(i+j-1)\\}_{i=1\\dots n, j=1 \\dots n}$$\n",
    "\n",
    "We will do is define the matrix with a notation similar to the right hand side above. The line below defines a $20\\times 20$ Hilbert matrix."
   ]
  },
  {
   "cell_type": "code",
   "execution_count": null,
   "id": "1e970e99",
   "metadata": {},
   "outputs": [],
   "source": [
    "H = [ 1/(i+j-1) for i in 1:20, j=1:20]"
   ]
  },
  {
   "cell_type": "markdown",
   "id": "2e2b5b76",
   "metadata": {},
   "source": [
    "## Writing some code.\n",
    "\n",
    "Since we were discussing the $LU$ decomposition in class, let us write the corresponding code. The following function is supposed to return the factors $L$ and $U$, given any square matrix $A$."
   ]
  },
  {
   "cell_type": "code",
   "execution_count": null,
   "id": "a7493a1c",
   "metadata": {},
   "outputs": [],
   "source": [
    "function LU(A)\n",
    "    n, m = size(A) # A is supposed to be a square matrix, so hopefully n and m will be equal.\n",
    "    \n",
    "    # We initalize L with zeros and U to be the same as A.\n",
    "    L = zeros(n,m)\n",
    "    U = copy(A)\n",
    "    \n",
    "    for k in 1:n\n",
    "        L[k,k] = 1\n",
    "        for i in (k+1):n\n",
    "            L[i,k] = U[i,k]/U[k,k]\n",
    "            U[i,:] = U[i,:] - L[i,k]*U[k,:]\n",
    "        end\n",
    "    end\n",
    "    return L, U\n",
    "end"
   ]
  },
  {
   "cell_type": "markdown",
   "id": "670040f9",
   "metadata": {},
   "source": [
    "Let us try a tiny test."
   ]
  },
  {
   "cell_type": "code",
   "execution_count": null,
   "id": "590eb063",
   "metadata": {},
   "outputs": [],
   "source": [
    "A = [1. 2.\n",
    "3. 4.]"
   ]
  },
  {
   "cell_type": "code",
   "execution_count": null,
   "id": "d2b1b8f1",
   "metadata": {},
   "outputs": [],
   "source": [
    "L,U = LU(A)"
   ]
  },
  {
   "cell_type": "code",
   "execution_count": null,
   "id": "e22dd61b",
   "metadata": {},
   "outputs": [],
   "source": [
    "L*U"
   ]
  },
  {
   "cell_type": "code",
   "execution_count": null,
   "id": "e5a6a209",
   "metadata": {},
   "outputs": [],
   "source": []
  }
 ],
 "metadata": {
  "kernelspec": {
   "display_name": "Julia 1.9.3",
   "language": "julia",
   "name": "julia-1.9"
  },
  "language_info": {
   "file_extension": ".jl",
   "mimetype": "application/julia",
   "name": "julia",
   "version": "1.9.3"
  }
 },
 "nbformat": 4,
 "nbformat_minor": 5
}
