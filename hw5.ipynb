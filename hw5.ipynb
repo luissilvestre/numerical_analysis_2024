{
 "cells": [
  {
   "cell_type": "markdown",
   "id": "fed96fd8",
   "metadata": {},
   "source": [
    "# Homework 5\n",
    "\n",
    "In this homework we test the approximation of functions with polynomials.\n",
    "\n",
    "We start by loading three Julia packages. The first one is to deal with polynomials. The second one provides pre-made methods for numerical integration. The third is the standard package for plotting functions."
   ]
  },
  {
   "cell_type": "code",
   "execution_count": null,
   "id": "e993e0c8",
   "metadata": {},
   "outputs": [],
   "source": [
    "using Polynomials\n",
    "using QuadGK\n",
    "using Plots"
   ]
  },
  {
   "cell_type": "markdown",
   "id": "1ee0997a",
   "metadata": {},
   "source": [
    "The polynomials can be defined from a list of coefficients. Arguably, it looks better to define a global variable `x` that refers to the $x$ polynomial and then do basic arithmetic with it. Let us see."
   ]
  },
  {
   "cell_type": "code",
   "execution_count": null,
   "id": "34f5e9c7",
   "metadata": {},
   "outputs": [],
   "source": [
    "global x = Polynomial([0,1])\n",
    "display(1 + 2x + 3x^2 + 5x^3)\n",
    "display((x-1.5)*(x-2))"
   ]
  },
  {
   "cell_type": "markdown",
   "id": "2d3d2d71",
   "metadata": {},
   "source": [
    "Now, the following function returns the Bernstien polynomial $\\beta_{n,i}$."
   ]
  },
  {
   "cell_type": "code",
   "execution_count": null,
   "id": "8e7b71e9",
   "metadata": {},
   "outputs": [],
   "source": [
    "function bernstein_beta(n::Integer, i::Integer)\n",
    "    return binomial(n,i) * x^i * (1-x)^(n-i)\n",
    "end"
   ]
  },
  {
   "cell_type": "markdown",
   "id": "6bbf9838",
   "metadata": {},
   "source": [
    "Let us see how it looks"
   ]
  },
  {
   "cell_type": "code",
   "execution_count": null,
   "id": "973be41b",
   "metadata": {},
   "outputs": [],
   "source": [
    "plot(bernstein_beta(20,6),0,1,label=\"beta_{20,6}\")"
   ]
  },
  {
   "cell_type": "markdown",
   "id": "dc9103fc",
   "metadata": {},
   "source": [
    "## Exercise 1\n",
    "\n",
    "It is your job to implement a function that returns the Bernstein polynomial corresponding to any function f"
   ]
  },
  {
   "cell_type": "code",
   "execution_count": null,
   "id": "b5c8dcdb",
   "metadata": {},
   "outputs": [],
   "source": [
    "function bernstein(f::Function, n::Integer)\n",
    "    #...\n",
    "end    "
   ]
  },
  {
   "cell_type": "code",
   "execution_count": null,
   "id": "5caa56bb",
   "metadata": {
    "scrolled": true
   },
   "outputs": [],
   "source": [
    "# Let us test if it seems to be working fine\n",
    "f(t) = sin(2*pi*t)\n",
    "p = bernstein(f,10)\n",
    "xg = 0:0.01:1\n",
    "plot(xg,map(p,xg), label=\"Bernstein 10\")\n",
    "plot!(f,0,1, label=\"sin(2 pi x)\")"
   ]
  },
  {
   "cell_type": "markdown",
   "id": "7bde4612",
   "metadata": {},
   "source": [
    "# Lagrange interpolation\n",
    "\n",
    "You implemented Lagrange interpolation in last week's homework. Here is a possible way to do it."
   ]
  },
  {
   "cell_type": "code",
   "execution_count": null,
   "id": "308c71c9",
   "metadata": {},
   "outputs": [],
   "source": [
    "function newton(f::Function, x::Vector{<:Real})\n",
    "    n = length(x)\n",
    "    if (n==1) return f(x[1]) end\n",
    "    yn = x[1:end-1]\n",
    "    yl = vcat(x[1:end-2],[x[n]])\n",
    "    return (newton(f,yn)-newton(f,yl))/(x[n-1]-x[n])\n",
    "end\n",
    "\n",
    "function interpolate(f::Function, points::Vector{<:Real})\n",
    "    n = length(points)  # note that the polynomial will be of degree n-1\n",
    "    p = Polynomial(0)\n",
    "    terms = []\n",
    "    for i in 1:n\n",
    "        term = Polynomial(newton(f,points[1:i]))\n",
    "        for j in 1:i-1\n",
    "            term *= (x-points[j])\n",
    "        end\n",
    "        p += term\n",
    "        push!(terms,term)\n",
    "    end\n",
    "    return p\n",
    "end"
   ]
  },
  {
   "cell_type": "markdown",
   "id": "2e3e0542",
   "metadata": {},
   "source": [
    "## Exercise 2\n",
    "\n",
    "We now want to generate a sequence of orthogonal polynomials in [0,1] and use them to find the least squares approximation of any given function as a polynomial of degree $\\leq n$ in the interval [0,1].\n",
    "\n",
    "First of all, we need to generate a list of orthogonal polynomials. The following function is supposed to return an array with the orthogonal polynomials $p_0, p_1, p_2, p_3, \\dots$ so that each $p_k$ has degree $k$."
   ]
  },
  {
   "cell_type": "code",
   "execution_count": null,
   "id": "ad799146",
   "metadata": {},
   "outputs": [],
   "source": [
    "function orthogonal_polynomials(n::Integer)\n",
    "    # This is going to be a list of orthogonal polynomials.\n",
    "    p = []  \n",
    "    \n",
    "    # The first polynomial is just constant 1\n",
    "    if n>0 push!(p,Polynomial(1)) end \n",
    "    \n",
    "    # ...\n",
    "    return p\n",
    "end\n",
    "\n",
    "# The following is a test\n",
    "orthogonal_polynomials(3)    "
   ]
  },
  {
   "cell_type": "markdown",
   "id": "c600bc30",
   "metadata": {},
   "source": [
    "I provide the function that generates the polynomial of a given degree that best approximates $f$ with respect to the $L^2$ distance. It requires a well done implementation of `orthogonal_polynomials` to work.\n",
    "\n",
    "Note that we use the function `integrate` to integrate polynomials. It should be fast and roughly exact. We use `quadgk` to integrate numerically any generic function. It is presumably slower and maybe less accurate. We will study how this is done in the next chapter."
   ]
  },
  {
   "cell_type": "code",
   "execution_count": null,
   "id": "89df46d8",
   "metadata": {},
   "outputs": [],
   "source": [
    "function least_squares_approximation(f::Function, degree::Integer)\n",
    "    ops = orthogonal_polynomials(degree)\n",
    "    p = Polynomial(0)\n",
    "    for po in ops\n",
    "        p += quadgk(t -> f(t)*po(t), 0,1, rtol=1e-14)[1] / integrate(po*po,0,1) * po\n",
    "    end\n",
    "    return p\n",
    "end      \n",
    "        "
   ]
  },
  {
   "cell_type": "code",
   "execution_count": null,
   "id": "108e7343",
   "metadata": {},
   "outputs": [],
   "source": [
    "# Let us test if it seems to be working fine\n",
    "f(t) = sin(2*pi*t)\n",
    "p = least_squares_approximation(f,4)\n",
    "xg = 0:0.01:1\n",
    "plot(xg,map(p,xg), label=\"Least squares approximation\")\n",
    "plot!(f,0,1, label=\"sin(2 pi x)\")"
   ]
  },
  {
   "cell_type": "markdown",
   "id": "0fbc339c",
   "metadata": {},
   "source": [
    "## Some pictures.\n",
    "\n",
    "Let us plot a few functions and their corresponding polynomials.\n",
    "\n",
    "We use a uniform grid in [0,1] for the interpolation. We use polynomials of degree n with (n+1) points."
   ]
  },
  {
   "cell_type": "code",
   "execution_count": null,
   "id": "ef44fe08",
   "metadata": {},
   "outputs": [],
   "source": [
    "function plot_all_polynomials(f::Function, n::Integer)\n",
    "    pB = bernstein(f,n)\n",
    "    pI = interpolate(f,Array(0:1/n:1))\n",
    "    pL = least_squares_approximation(f,n)\n",
    "    xi = 0:0.002:1\n",
    "    scatter(0:1/n:1, map(f,0:1/n:1), label=\"Interpolation points\")\n",
    "    plot!(xi,map(f,xi), label=\"function\")\n",
    "    plot!(xi,map(pB,xi), label=\"Bernstein polynomial\")\n",
    "    plot!(xi,map(pI,xi), label=\"Lagrange interpolation\")\n",
    "    plot!(xi,map(pL,xi), label=\"Least squares approximation\")\n",
    "end"
   ]
  },
  {
   "cell_type": "code",
   "execution_count": null,
   "id": "26563198",
   "metadata": {},
   "outputs": [],
   "source": [
    "plot_all_polynomials(t->sin(2*pi*t),4)"
   ]
  },
  {
   "cell_type": "markdown",
   "id": "e343ca5d",
   "metadata": {},
   "source": [
    "In this first example, the sine function is very smooth and looks very much like a polinomial. The Lagrange interpolation does a very good job, as well as the least square approximation.\n",
    "\n",
    "Let us now try a Gaussian, that is very localized near 0.5. We use 9 points."
   ]
  },
  {
   "cell_type": "code",
   "execution_count": null,
   "id": "c63fe4b9",
   "metadata": {},
   "outputs": [],
   "source": [
    "plot_all_polynomials(t->exp(-50*(t-0.5)^2),8)"
   ]
  },
  {
   "cell_type": "markdown",
   "id": "6863e2c2",
   "metadata": {},
   "source": [
    "The Lagrange interpolation polynomial does not look so well any more. The least squares approximation stays somewhere close to the Gaussian. The Bernstein polynomial is still far from the graph, but at least it has more or less the same visual shape.\n",
    "\n",
    "What if we do it with a few more points?"
   ]
  },
  {
   "cell_type": "code",
   "execution_count": null,
   "id": "d391c45f",
   "metadata": {},
   "outputs": [],
   "source": [
    "plot_all_polynomials(t->exp(-50*(t-0.5)^2),12)"
   ]
  },
  {
   "cell_type": "markdown",
   "id": "40de251c",
   "metadata": {},
   "source": [
    "If I try with more points the least squares approximation seems to lose symmetry. Honestly, I do not understand why. There is no reason for that to happen. I can only think of two reasons:\n",
    "* The truncation errors in the numerical integration grow out of control.\n",
    "* I made a mistake in the implementation of the function.\n",
    "I would appreciate if someone sheds some light on this issue.\n",
    "\n",
    "Let us now try other functions. Recall that the error in Lagrange interpolation had to do with some higher order derivative of the function. What would happen then, if we apply it to a continuous function that is not differentiable. Let us try a tent function $f(x) = (1 - 4|x-0.5|)_+$."
   ]
  },
  {
   "cell_type": "code",
   "execution_count": null,
   "id": "664392da",
   "metadata": {},
   "outputs": [],
   "source": [
    "pos(t) = t>0 ? t : 0.\n",
    "\n",
    "plot_all_polynomials(t->pos(1 - 4*abs(t-0.5)),5)"
   ]
  },
  {
   "cell_type": "code",
   "execution_count": null,
   "id": "f39c94a0",
   "metadata": {},
   "outputs": [],
   "source": [
    "plot_all_polynomials(t->pos(1 - 4*abs(t-0.5)),15)"
   ]
  },
  {
   "cell_type": "markdown",
   "id": "029c3034",
   "metadata": {},
   "source": [
    "Noticeably, the Lagrange interpolation has some severe ondulations near the endpoints of the interval.\n",
    "\n",
    "Let us now try an even more singular function: the heavyside!"
   ]
  },
  {
   "cell_type": "code",
   "execution_count": null,
   "id": "583e4e1b",
   "metadata": {},
   "outputs": [],
   "source": [
    "plot_all_polynomials(t-> t>0.5 ? 0. : 1.,5)"
   ]
  },
  {
   "cell_type": "code",
   "execution_count": null,
   "id": "a71da6d5",
   "metadata": {},
   "outputs": [],
   "source": [
    "plot_all_polynomials(t-> t>0.5 ? 0. : 1.,10)"
   ]
  },
  {
   "cell_type": "markdown",
   "id": "287f1114",
   "metadata": {},
   "source": [
    "## We want a movie!!\n",
    "\n",
    "In all the pictures above it seems that the Bernstein polynomials do a bad job at approximating the function. However, the Bernstein polynomials always converge to the function as $n \\to \\infty$. It just takes a large $n$ to get there. Let us see how a sequence of Bernstein polynomials converge to the Gaussian function."
   ]
  },
  {
   "cell_type": "code",
   "execution_count": null,
   "id": "2c0da481",
   "metadata": {},
   "outputs": [],
   "source": [
    "anim = @animate for n in 1:30\n",
    "    f(t) = exp(-50*(t-0.5)^2)\n",
    "    pb = bernstein(f,n)\n",
    "    xg = 0:0.01:1\n",
    "    yg = map(pb,xg)\n",
    "    plot(xg,yg, label=\"Bernstein with degree \"*string(n))\n",
    "    plot!(f,0,1, label=\"Gaussian\")\n",
    "end\n",
    "gif(anim,fps=5)"
   ]
  },
  {
   "cell_type": "markdown",
   "id": "23489f6f",
   "metadata": {},
   "source": [
    "I stopped the computation at degree 30 because I was getting rubbish afterwards. The Bernstein polynomials are supposed to converge to the function as their degree $\\to \\infty$. But the numerical errors due to floating point truncation eventually become dominant."
   ]
  }
 ],
 "metadata": {
  "kernelspec": {
   "display_name": "Julia 1.9.3",
   "language": "julia",
   "name": "julia-1.9"
  },
  "language_info": {
   "file_extension": ".jl",
   "mimetype": "application/julia",
   "name": "julia",
   "version": "1.9.3"
  }
 },
 "nbformat": 4,
 "nbformat_minor": 5
}
