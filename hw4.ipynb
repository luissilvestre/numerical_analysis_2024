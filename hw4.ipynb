{
 "cells": [
  {
   "cell_type": "markdown",
   "id": "bc05347b",
   "metadata": {},
   "source": [
    "# Homework 4\n",
    "\n",
    "Solve exercises 10.1, 10.2, 10.15, 11.15\n",
    "\n",
    "In the next cell, we copy all the functions from the last homework. We will use them for comparison with the new ones."
   ]
  },
  {
   "cell_type": "code",
   "execution_count": null,
   "id": "39bd1234",
   "metadata": {},
   "outputs": [],
   "source": [
    "function LU(A)\n",
    "    n, m = size(A) # A is supposed to be a square matrix, so hopefully n and m will be equal.\n",
    "    \n",
    "    # We initalize L with zeros and U to be the same as A.\n",
    "    L = zeros(n,m)\n",
    "    U = copy(A)\n",
    "    \n",
    "    for k in 1:n\n",
    "        L[k,k] = 1\n",
    "        for i in (k+1):n\n",
    "            L[i,k] = U[i,k]/U[k,k]\n",
    "            U[i,:] = U[i,:] - L[i,k]*U[k,:]\n",
    "        end\n",
    "    end\n",
    "    return L, U\n",
    "end\n",
    "\n",
    "function backward_substitute(U,y)\n",
    "    n, m = size(U)\n",
    "    r, = size(y)\n",
    "    @assert n == m == r\n",
    "    x = zeros(n)\n",
    "    \n",
    "    for i in n:-1:1\n",
    "        tail = 0\n",
    "        for j in i+1:n\n",
    "            tail = tail + U[i,j]*x[j]\n",
    "        end\n",
    "        x[i] = (y[i] - tail)/U[i,i]\n",
    "    end\n",
    "    \n",
    "    return x\n",
    "end\n",
    "\n",
    "function forward_substitute(L,y)\n",
    "    n, m = size(L)\n",
    "    r, = size(y)\n",
    "    @assert n == m == r\n",
    "    x = zeros(n)\n",
    "    for i in 1:n\n",
    "        tail = 0\n",
    "        for j in 1:i-1\n",
    "            tail = tail + L[i,j]*x[j]\n",
    "        end\n",
    "        x[i] = (y[i] - tail)/L[i,i]\n",
    "    end\n",
    "    return x\n",
    "end\n",
    "\n",
    "function solve(A,f)\n",
    "    n, m = size(A)\n",
    "    r, = size(f)\n",
    "    @assert n == m == r\n",
    "    \n",
    "    # Something goes here\n",
    "    L, U = LU(A)\n",
    "    y = forward_substitute(L,f)\n",
    "    x = backward_substitute(U,y)\n",
    "    \n",
    "    return(x)\n",
    "end\n",
    "\n",
    "function big_matrix(n)\n",
    "    A = zeros(n^2,n^2)\n",
    "    for i in 1:n^2\n",
    "        A[i,i] = 4\n",
    "        if mod(i,n)!=0\n",
    "            A[i+1,i] = -1\n",
    "            A[i,i+1] = -1\n",
    "        end\n",
    "        if i<=n^2-n\n",
    "            A[i,i+n] = -1\n",
    "            A[i+n,i] = -1\n",
    "        end\n",
    "    end\n",
    "    return A\n",
    "end\n",
    "\n",
    "function big_rhs(n, f)\n",
    "    y = zeros(n^2)\n",
    "    for i in 1:n\n",
    "        y[i] += f(i/(n+1),0.)\n",
    "        y[n^2-n+i] += f(i/(n+1),1.)\n",
    "    end\n",
    "        \n",
    "    for i in 1:n\n",
    "        y[n*i] += f(1.,i/(n+1))\n",
    "        y[n*i-n+1] += f(0.,i/(n+1))\n",
    "    end\n",
    "    return y\n",
    "end\n",
    "\n",
    "function T(u::Array{<:Real,2})\n",
    "    n, m = size(u)\n",
    "    v = similar(u) # This line creates another array with the same dimensions and type as u\n",
    "    for i in 1:n\n",
    "        for j in 1:m\n",
    "            v[i,j] = 4*u[i,j]\n",
    "            if i>1 v[i,j] -= u[i-1,j] end\n",
    "            if i<n v[i,j] -= u[i+1,j] end\n",
    "            if j>1 v[i,j] -= u[i,j-1] end\n",
    "            if j<m v[i,j] -= u[i,j+1] end\n",
    "        end\n",
    "    end\n",
    "    return v\n",
    "end\n",
    "\n",
    "function matrix_rhs(n::Integer, f::Function)\n",
    "    b = zeros(n,n)\n",
    "    for i in 1:n\n",
    "        b[1,i] += f(0.,i/(n+1))\n",
    "        b[n,i] += f(1.,i/(n+1))\n",
    "        b[i,1] += f(i/(n+1),0.)\n",
    "        b[i,n] += f(i/(n+1),1.)\n",
    "    end\n",
    "    return b\n",
    "end  \n",
    "\n",
    "function gauss_seidel_iteration!(u::Array{<:Real,2}, b::Array{<:Real,2})\n",
    "    n, m = size(u)\n",
    "    for i in 1:n\n",
    "        for j in 1:m\n",
    "            s = b[i,j]\n",
    "            if i>1 s += u[i-1,j] end\n",
    "            if j>1 s += u[i,j-1] end\n",
    "            if i<n s += u[i+1,j] end\n",
    "            if j<m s += u[i,j+1] end\n",
    "            u[i,j] = s/4\n",
    "        end\n",
    "    end\n",
    "end    \n",
    "\n",
    "function gauss_seidel(u::Array{<:Real,2}, b::Array{<:Real,2}, iterations::Integer)\n",
    "    for i in 1:iterations\n",
    "        gauss_seidel_iteration!(u,b)\n",
    "    end\n",
    "    return u\n",
    "end   \n",
    "\n",
    "function dot_product(u::Array{<:Real,2}, v::Array{<:Real,2})\n",
    "    return sum(u.*v)\n",
    "end\n",
    "\n",
    "function gradient_descent(u::Array{<:Real,2}, b::Array{<:Real,2}, iterations::Integer)\n",
    "    for i in 1:iterations\n",
    "        r = T(u) - b\n",
    "        a = dot_product(r,r) / dot_product(T(r),r)\n",
    "        u = u - a*r\n",
    "    end\n",
    "    return u\n",
    "end"
   ]
  },
  {
   "cell_type": "markdown",
   "id": "4a742212",
   "metadata": {},
   "source": [
    "Now you are supposed to implement the conjugate gradients method."
   ]
  },
  {
   "cell_type": "code",
   "execution_count": null,
   "id": "1080259f",
   "metadata": {},
   "outputs": [],
   "source": [
    "function conjugate_gradients(u::Array{<:Real,2}, b::Array{<:Real,2}, iterations::Integer)\n",
    "    # ...\n",
    "end"
   ]
  },
  {
   "cell_type": "markdown",
   "id": "8fb900c5",
   "metadata": {},
   "source": [
    "Let us test how long these algorithms take in practice. So, we will time their execution time with a 40x40 mesh."
   ]
  },
  {
   "cell_type": "code",
   "execution_count": null,
   "id": "357a7300",
   "metadata": {},
   "outputs": [],
   "source": [
    "n = 40\n",
    "f(x,y) = 1 - sin(pi*x)\n",
    "partition = 1/(n+1) : 1/(n+1) : 1-1/(n+1)\n",
    "\n",
    "# We use the following function to roughly measure the size of vectors or matrices.\n",
    "function supnorm(u)\n",
    "    s = 0\n",
    "    for entry in u\n",
    "        s = max(abs(entry),s)\n",
    "    end\n",
    "    return s\n",
    "end\n",
    "\n",
    "# Using Gaussian elimination\n",
    "y = big_rhs(n,f)\n",
    "A = big_matrix(n)\n",
    "@time x = solve(A,y)\n",
    "println(\"Accuracy of Gaussian elimination: \", supnorm(A*x-y) / n^2)\n",
    "\n",
    "# Using Gauss-Seidel iteration\n",
    "# We can test different number of iterations\n",
    "\n",
    "iterations = div(n^2,10)\n",
    "b = matrix_rhs(n,f)\n",
    "u = zeros(n,n)\n",
    "@time u = gauss_seidel(u,b,iterations)\n",
    "println(\"Accuracy of Gauss Seidel with \", iterations, \" iterations: \", supnorm(T(u)-b)/n^2)\n",
    "\n",
    "iterations = n^2\n",
    "b = matrix_rhs(n,f)\n",
    "u = zeros(n,n)\n",
    "@time u = gauss_seidel(u,b,iterations)\n",
    "println(\"Accuracy of Gauss Seidel with \", iterations, \" iterations: \", supnorm(T(u)-b)/n^2)\n",
    "\n",
    "iterations = 10*n^2\n",
    "b = matrix_rhs(n,f)\n",
    "u = zeros(n,n)\n",
    "@time u = gauss_seidel(u,b,iterations)\n",
    "println(\"Accuracy of Gauss Seidel with \", iterations, \" iterations: \", supnorm(T(u)-b)/n^2)\n",
    "\n",
    "# Using Gradient descent\n",
    "# We can test different number of iterations\n",
    "\n",
    "iterations = n^2\n",
    "b = matrix_rhs(n,f)\n",
    "u = zeros(n,n)\n",
    "@time u = gradient_descent(u,b,iterations)\n",
    "println(\"Accuracy of Gradient descent with \", iterations, \" iterations: \", supnorm(T(u)-b)/n^2)\n",
    "\n",
    "# Using Conjugate radients\n",
    "# We can test different number of iterations\n",
    "\n",
    "iterations = div(n^2,10)\n",
    "b = matrix_rhs(n,f)\n",
    "u = zeros(n,n)\n",
    "@time u = conjugate_gradients(u,b,iterations)\n",
    "println(\"Accuracy of conjugate gradients with \", iterations, \" iterations: \", supnorm(T(u)-b)/n^2)\n",
    "\n",
    "iterations = n^2\n",
    "b = matrix_rhs(n,f)\n",
    "u = zeros(n,n)\n",
    "@time u = conjugate_gradients(u,b,iterations)\n",
    "println(\"Accuracy of conjugate gradients with \", iterations, \" iterations: \", supnorm(T(u)-b)/n^2)"
   ]
  },
  {
   "cell_type": "markdown",
   "id": "5cb1e581",
   "metadata": {},
   "source": [
    "Conjugate gradients wins by a large margin. In this example, we are getting the exact solution in even fewer iterations than expected. I don't have a good explanation of why, and we shouldn't expect that in general.\n",
    "\n",
    "We can even solve the problem with a massive mesh of 200x200. It takes less than a minute to get the exact solution in my (old) office computer. Good luck doing that with any of the other methods."
   ]
  },
  {
   "cell_type": "code",
   "execution_count": null,
   "id": "f10174e1",
   "metadata": {},
   "outputs": [],
   "source": [
    "n = 200\n",
    "f(x,y) = 1 - sin(pi*x)\n",
    "partition = 1/(n+1) : 1/(n+1) : 1-1/(n+1)\n",
    "iterations = n^2\n",
    "b = matrix_rhs(n,f)\n",
    "u = zeros(n,n)\n",
    "@time u = conjugate_gradients(u,b,iterations)\n",
    "println(\"Accuracy of conjugate gradients with \", iterations, \" iterations: \", supnorm(T(u)-b)/n^2)"
   ]
  },
  {
   "cell_type": "markdown",
   "id": "202c33fe",
   "metadata": {},
   "source": [
    "## Fun movie\n",
    "\n",
    "Let us make a movie to compare the speed of gradient descent with conjugate gradients."
   ]
  },
  {
   "cell_type": "code",
   "execution_count": null,
   "id": "64f6e55f",
   "metadata": {},
   "outputs": [],
   "source": [
    "using Plots\n",
    "iterations = 5\n",
    "n = 40\n",
    "partition = 1/(n+1) : 1/(n+1) : 1-1/(n+1)\n",
    "\n",
    "let b = matrix_rhs(n,f), u = zeros(n,n), v = zeros(n,n)\n",
    "    @gif for i in 1:300\n",
    "        u = gradient_descent(u,b,iterations)\n",
    "        v = conjugate_gradients(v,b,iterations)\n",
    "        sgd1 = surface(partition,partition,u, title=string(i*iterations)*\" iterations\")\n",
    "        sgd2 = surface(partition,partition,v, title=string(i*iterations)*\" iterations\")\n",
    "        sg = plot(sgd1,sgd2,layout=2, size=(800,300))\n",
    "    end\n",
    "end"
   ]
  },
  {
   "cell_type": "markdown",
   "id": "6b1f99c6",
   "metadata": {},
   "source": [
    "# Interpolation polynomials\n",
    "\n",
    "Let us explore what we get when we interpolate a function with a polynomial. Let us start with a function that computes Newton's divided differences.\n",
    "\n",
    "$$ \\textbf{newton}(f,[x_1,\\dots,x_n]) := f[x_1,\\dots,x_n] $$\n",
    "\n",
    "In order to implement the function below, we use the following formula for $n>1$,\n",
    "$$ f[x_1, \\dots , x_n] = \\frac{f[x_1, \\dots , x_{n-1}]-f[x_1, \\dots , x_{n-2},x_n]}{x_{n-1}-x_n}. $$\n",
    "\n",
    "With this formula, it is relatively easy to implement **newton** recursively. I include the code below."
   ]
  },
  {
   "cell_type": "code",
   "execution_count": 1,
   "id": "e39d0b94",
   "metadata": {},
   "outputs": [
    {
     "data": {
      "text/plain": [
       "newton (generic function with 1 method)"
      ]
     },
     "execution_count": 1,
     "metadata": {},
     "output_type": "execute_result"
    }
   ],
   "source": [
    "function newton(f::Function, x::Vector{<:Real})\n",
    "    n = length(x)\n",
    "    if (n==1) return f(x[1]) end\n",
    "    yn = x[1:end-1]\n",
    "    yl = vcat(x[1:end-2],[x[n]])\n",
    "    return (newton(f,yn)-newton(f,yl))/(x[n-1]-x[n])\n",
    "end"
   ]
  },
  {
   "cell_type": "markdown",
   "id": "c8cc22b5",
   "metadata": {},
   "source": [
    "We load a Julia package called Polynomials. It is used to make computations with polynomials as the name suggests."
   ]
  },
  {
   "cell_type": "code",
   "execution_count": 3,
   "id": "2fcaaa08",
   "metadata": {},
   "outputs": [],
   "source": [
    "using Polynomials"
   ]
  },
  {
   "cell_type": "markdown",
   "id": "763f9482",
   "metadata": {},
   "source": [
    "The polynomials can be defined from a list of coefficients. Arguably, it looks better to define a global variable `x` that refers to the $x$ polynomial and then do basic arithmetic with it. Let us see."
   ]
  },
  {
   "cell_type": "code",
   "execution_count": 4,
   "id": "311013f8",
   "metadata": {},
   "outputs": [
    {
     "data": {
      "text/html": [
       "1 &#43; 2&#8729;x &#43; 3&#8729;x<sup>2</sup> &#43; 5&#8729;x<sup>3</sup>"
      ],
      "text/latex": [
       "$1 + 2\\cdot x + 3\\cdot x^{2} + 5\\cdot x^{3}$"
      ],
      "text/plain": [
       "Polynomial(1 + 2*x + 3*x^2 + 5*x^3)"
      ]
     },
     "metadata": {},
     "output_type": "display_data"
    },
    {
     "data": {
      "text/html": [
       "3.0 &#45; 3.5&#8729;x &#43; 1.0&#8729;x<sup>2</sup>"
      ],
      "text/latex": [
       "$3.0 - 3.5\\cdot x + 1.0\\cdot x^{2}$"
      ],
      "text/plain": [
       "Polynomial(3.0 - 3.5*x + 1.0*x^2)"
      ]
     },
     "metadata": {},
     "output_type": "display_data"
    }
   ],
   "source": [
    "global x = Polynomial([0,1])\n",
    "display(1 + 2x + 3x^2 + 5x^3)\n",
    "display((x-1.5)*(x-2))"
   ]
  },
  {
   "cell_type": "markdown",
   "id": "080ed778",
   "metadata": {},
   "source": [
    "## Exercise\n",
    "\n",
    "Implement a function that returns a polynomial that interpolates f on any given collection of real numbers {x1, x2, ..., xn}."
   ]
  },
  {
   "cell_type": "code",
   "execution_count": null,
   "id": "13721fe2",
   "metadata": {},
   "outputs": [],
   "source": [
    "function interpolate(f::Function, points::Vector{<:Real})\n",
    "    n = length(points)  # note that the polynomial will be of degree n-1\n",
    "    p = Polynomial(0)\n",
    "\n",
    "    # ...\n",
    "    \n",
    "    return p\n",
    "end"
   ]
  },
  {
   "cell_type": "code",
   "execution_count": null,
   "id": "ef0582d0",
   "metadata": {},
   "outputs": [],
   "source": [
    "# Let us test if it seems to be working well\n",
    "f(t) = sin(2*π*t)\n",
    "sample = Array(0:0.25:1)\n",
    "p = interpolate(f,sample)\n",
    "xg = 0:0.01:1\n",
    "plot(xg,map(p,xg), label=\"Lagrange interpolation\")\n",
    "plot!(f,0,1, label=\"sin(2 pi x)\")\n",
    "scatter!(sample, map(f,sample), label=\"Interpolation points\")"
   ]
  },
  {
   "cell_type": "code",
   "execution_count": null,
   "id": "c5b35b06",
   "metadata": {},
   "outputs": [],
   "source": [
    "# Let us now try to interpolate the Gaussian function\n",
    "# The result should be mostly fine, with some artifacts near the end of the interval.\n",
    "\n",
    "f(t) = exp(-t^2)\n",
    "sample = Array(-3:0.5:3)\n",
    "p = interpolate(f,sample)\n",
    "xg = -3:0.01:3\n",
    "plot(xg,map(p,xg), label=\"Lagrange interpolation\")\n",
    "plot!(f,-3,3, label=\"exp(-x^2)\")\n",
    "scatter!(sample, map(f,sample), label=\"Interpolation points\")"
   ]
  },
  {
   "cell_type": "code",
   "execution_count": null,
   "id": "5cd10830",
   "metadata": {},
   "outputs": [],
   "source": [
    "# Let us now try to interpolate the Runge function. It is an example whose higher derivatives grow.\n",
    "# The result should be pretty bad near the end points of the interval.\n",
    "\n",
    "f(t) = 1/(1+t^2)\n",
    "sample = Array(-3:0.5:3)\n",
    "p = interpolate(f,sample)\n",
    "xg = -3:0.01:3\n",
    "plot(xg,map(p,xg), label=\"Lagrange interpolation\")\n",
    "plot!(f,-3,3, label=\"1/(1+x^2)\")\n",
    "scatter!(sample, map(f,sample), label=\"Interpolation points\")"
   ]
  }
 ],
 "metadata": {
  "kernelspec": {
   "display_name": "Julia 1.9.3",
   "language": "julia",
   "name": "julia-1.9"
  },
  "language_info": {
   "file_extension": ".jl",
   "mimetype": "application/julia",
   "name": "julia",
   "version": "1.9.3"
  }
 },
 "nbformat": 4,
 "nbformat_minor": 5
}
