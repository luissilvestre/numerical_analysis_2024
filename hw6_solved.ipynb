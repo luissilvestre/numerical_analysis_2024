{
 "cells": [
  {
   "cell_type": "markdown",
   "id": "2c8179e0",
   "metadata": {},
   "source": [
    "#  Integration"
   ]
  },
  {
   "cell_type": "markdown",
   "id": "df8d01ec",
   "metadata": {},
   "source": [
    "Solve the following exercises.\n",
    "\n",
    "1. Prove that the midpoint rule is exact for polynomials of degree $\\leq 1$.\n",
    "\n",
    "2. Compute the coefficients for the closed Newton-Cotes rule with four points.\n",
    "\n",
    "And also do exercises 13.7 and 13.20 from the book."
   ]
  },
  {
   "cell_type": "markdown",
   "id": "34ab6cbd",
   "metadata": {},
   "source": [
    "Let us now implement numerical integration. Ideally, we would like to write something of the form\n",
    "\n",
    "``function integrate(f::Function, a::Real, b::Real)\n",
    "...\n",
    "end\n",
    "``\n",
    "\n",
    "that would return an approximate value for \n",
    "$$ \\int_a^b f(x) \\, dx $$\n",
    "\n",
    "We will write different versions of numerical quadrature. Let us start with the trapezoid rule using $n+1$ points (from $x_0$ to $x_n$)."
   ]
  },
  {
   "cell_type": "code",
   "execution_count": 1,
   "id": "50228d8e",
   "metadata": {},
   "outputs": [
    {
     "data": {
      "text/plain": [
       "trapezoid (generic function with 2 methods)"
      ]
     },
     "execution_count": 1,
     "metadata": {},
     "output_type": "execute_result"
    }
   ],
   "source": [
    "function trapezoid(f::Function, a::Real, b::Real, n::Integer=100)\n",
    "    sum = 0.\n",
    "    h = (b-a)/n\n",
    "    sum += (f(a)+f(b))*h/2\n",
    "    for i in 1:n-1\n",
    "        xi = h*i + a\n",
    "        sum += h*f(xi)\n",
    "    end\n",
    "    return sum\n",
    "end"
   ]
  },
  {
   "cell_type": "markdown",
   "id": "765ebc7a",
   "metadata": {},
   "source": [
    "Let us verify that \n",
    "$$ \\int_0^1 x^2 dx = 1/3 $$."
   ]
  },
  {
   "cell_type": "code",
   "execution_count": 2,
   "id": "ec8ed2cd",
   "metadata": {},
   "outputs": [
    {
     "data": {
      "text/plain": [
       "0.33335000000000015"
      ]
     },
     "execution_count": 2,
     "metadata": {},
     "output_type": "execute_result"
    }
   ],
   "source": [
    "trapezoid(x->x^2,0,1)"
   ]
  },
  {
   "cell_type": "markdown",
   "id": "86c4b1e3",
   "metadata": {},
   "source": [
    "We now implement the Simpson rule. The parameter $n$ still means that we should be evaluating the function at equispaced points $x_0 = a < x_1 < x_2 < \\dots < x_n=b$"
   ]
  },
  {
   "cell_type": "code",
   "execution_count": 3,
   "id": "a3b90c3b",
   "metadata": {},
   "outputs": [
    {
     "data": {
      "text/plain": [
       "simpson (generic function with 2 methods)"
      ]
     },
     "execution_count": 3,
     "metadata": {},
     "output_type": "execute_result"
    }
   ],
   "source": [
    "function simpson(f::Function, a::Real, b::Real, n::Integer=100)\n",
    "    sum = 0.\n",
    "    h = (b-a)/n\n",
    "    sum += (f(a)+f(b))*h/3\n",
    "    for i in 1:n-1\n",
    "        xi = h*i + a\n",
    "        if mod(i,2)==1 \n",
    "            sum += 4*h*f(xi)/3\n",
    "        else\n",
    "            sum += 2*h*f(xi)/3\n",
    "        end\n",
    "    end\n",
    "    return sum\n",
    "end"
   ]
  },
  {
   "cell_type": "markdown",
   "id": "c16f8309",
   "metadata": {},
   "source": [
    "The following computation should give you an exact value up to round-off errors. Why?"
   ]
  },
  {
   "cell_type": "code",
   "execution_count": 4,
   "id": "6e11a838",
   "metadata": {},
   "outputs": [
    {
     "data": {
      "text/plain": [
       "0.33333333333333337"
      ]
     },
     "execution_count": 4,
     "metadata": {},
     "output_type": "execute_result"
    }
   ],
   "source": [
    "simpson(x->x^2,0,1)"
   ]
  },
  {
   "cell_type": "markdown",
   "id": "cb96fdf4",
   "metadata": {},
   "source": [
    "The following function implement Gaussian curvature with two intermediate points. Note that unline the previous cases, we end up evaluating the function $f$ in more than $n+1$ points."
   ]
  },
  {
   "cell_type": "code",
   "execution_count": 5,
   "id": "dff59c17",
   "metadata": {},
   "outputs": [
    {
     "data": {
      "text/plain": [
       "gaussian2 (generic function with 2 methods)"
      ]
     },
     "execution_count": 5,
     "metadata": {},
     "output_type": "execute_result"
    }
   ],
   "source": [
    "function gaussian2(f::Function, a::Real, b::Real, n::Integer=100)\n",
    "    sum = 0.\n",
    "    h = (b-a)/n\n",
    "    root = sqrt(1/3)\n",
    "    for i in 0:n-1\n",
    "        x0 = h*i + a\n",
    "        x1 = h*(i+1) + a\n",
    "        \n",
    "        y1 = (x0+x1)/2 + root*(x1-x0)/2\n",
    "        y2 = (x0+x1)/2 - root*(x1-x0)/2\n",
    "        sum += (f(y1)+f(y2))*h/2\n",
    "    end\n",
    "    return sum\n",
    "end    "
   ]
  },
  {
   "cell_type": "code",
   "execution_count": 6,
   "id": "f56b0000",
   "metadata": {},
   "outputs": [
    {
     "data": {
      "text/plain": [
       "0.3333333333333333"
      ]
     },
     "execution_count": 6,
     "metadata": {},
     "output_type": "execute_result"
    }
   ],
   "source": [
    "# The following computation should also be exact\n",
    "gaussian2(x->x^2,0,1)"
   ]
  },
  {
   "cell_type": "markdown",
   "id": "5eed379e",
   "metadata": {},
   "source": [
    "You should now implement gaussian3 that uses three intermediate points instead of two. You can use [Wikipedia](https://en.wikipedia.org/wiki/Gaussian_quadrature) to find the roots of the orthogonal polynomial and the corresponding weights."
   ]
  },
  {
   "cell_type": "code",
   "execution_count": 7,
   "id": "2c59e510",
   "metadata": {},
   "outputs": [
    {
     "data": {
      "text/plain": [
       "gaussian3 (generic function with 2 methods)"
      ]
     },
     "execution_count": 7,
     "metadata": {},
     "output_type": "execute_result"
    }
   ],
   "source": [
    "function gaussian3(f::Function, a::Real, b::Real, n::Integer=100)\n",
    "    sum = 0.\n",
    "    h = (b-a)/n\n",
    "    root = sqrt(3/5)\n",
    "    α1 = 5 / 18\n",
    "    α2 = 5 / 18\n",
    "    α3 = 4/9\n",
    "    for i in 0:n-1\n",
    "        x0 = h*i + a\n",
    "        x1 = h*(i+1) + a\n",
    "        \n",
    "        y1 = (x0+x1)/2 + root*(x0-x1)/2\n",
    "        y2 = (x0+x1)/2 - root*(x0-x1)/2\n",
    "        y3 = (x0+x1)/2\n",
    "        sum += (α1*f(y1)+α1*f(y2)+α3*f(y3))*h\n",
    "    end\n",
    "    return sum\n",
    "end    "
   ]
  },
  {
   "cell_type": "code",
   "execution_count": 8,
   "id": "9399466b",
   "metadata": {},
   "outputs": [
    {
     "data": {
      "text/plain": [
       "0.3333333333333333"
      ]
     },
     "execution_count": 8,
     "metadata": {},
     "output_type": "execute_result"
    }
   ],
   "source": [
    "# The following computation should also be exact\n",
    "gaussian3(x->x^2,0,1)"
   ]
  },
  {
   "cell_type": "markdown",
   "id": "f71d71ec",
   "metadata": {},
   "source": [
    "## Computing $\\pi$\n",
    "\n",
    "There are several smart ways to compute the number $\\pi$ with good accuracy. We are going to do something that is not so smart. Let us approximate $\\pi$ by computing the area of a circle directly.\n",
    "\n",
    "$$ \\pi = 2 \\int_{-1}^1 \\sqrt{1-x^2} \\, dx . $$\n",
    "\n",
    "Let us test our algorithms to see what we get."
   ]
  },
  {
   "cell_type": "code",
   "execution_count": 9,
   "id": "d687b0a0",
   "metadata": {},
   "outputs": [
    {
     "name": "stdout",
     "output_type": "stream",
     "text": [
      "Exact value: 3.141592653589793\n",
      "Approximation by trapezoid rule:3.138268511098501\n",
      "Approximation by Simpson rule:3.140292577830334\n",
      "Approximation by Gaussian quadrature with two points:3.141709421681971\n",
      "Approximation by Gaussian quadrature with three points:3.1416328913577884\n"
     ]
    }
   ],
   "source": [
    "println(\"Exact value: \", Float64(π))\n",
    "circle(x) = 2*sqrt(1-x^2)\n",
    "println(\"Approximation by trapezoid rule:\", trapezoid(circle,-1,1))\n",
    "println(\"Approximation by Simpson rule:\", simpson(circle,-1,1))\n",
    "println(\"Approximation by Gaussian quadrature with two points:\", gaussian2(circle,-1,1))\n",
    "println(\"Approximation by Gaussian quadrature with three points:\", gaussian3(circle,-1,1))"
   ]
  },
  {
   "cell_type": "markdown",
   "id": "a8182df9",
   "metadata": {},
   "source": [
    "The number above are aguably unfair. The trapezoid and simpson rule (if you implement them like I did) evaluate the function in $n+1$ points. The gaussian2 evaluates the function in $2n$ points, and the gaussian3 evaluates the function in $3n$ point. To make the competition fair, let us adapt the value of $n$ accordingly."
   ]
  },
  {
   "cell_type": "code",
   "execution_count": 10,
   "id": "1585d42f",
   "metadata": {},
   "outputs": [
    {
     "name": "stdout",
     "output_type": "stream",
     "text": [
      "Exact value: 3.141592653589793\n",
      "Approximation by trapezoid rule: 3.141366358851329\n",
      "Approximation by Simpson rule: 3.141504258208093\n",
      "Approximation by Gaussian quadrature with two points: 3.141615112264936\n",
      "Approximation by Gaussian quadrature with three points: 3.141606877131482\n"
     ]
    }
   ],
   "source": [
    "println(\"Exact value: \", Float64(π))\n",
    "circle(x) = 2*sqrt(1-x^2)\n",
    "println(\"Approximation by trapezoid rule: \", trapezoid(circle,-1,1,600))\n",
    "println(\"Approximation by Simpson rule: \", simpson(circle,-1,1,600))\n",
    "println(\"Approximation by Gaussian quadrature with two points: \", gaussian2(circle,-1,1,300))\n",
    "println(\"Approximation by Gaussian quadrature with three points: \", gaussian3(circle,-1,1,200))"
   ]
  },
  {
   "cell_type": "markdown",
   "id": "d6560bc3",
   "metadata": {},
   "source": [
    "I am getting approximately four digits of accuracy with the four algorithms. This is not a very significant difference between the four algorithms, and it is maybe less that we would have expected. **Can you explain why the accuracy is so low in this example?**"
   ]
  },
  {
   "cell_type": "markdown",
   "id": "ce877917",
   "metadata": {},
   "source": [
    "Let us now compute a different function as a way to approximate $\\pi$. We will use the following identity.\n",
    "$$ \\pi = \\int_{-1}^1 \\frac 2 {1+x^2} \\, dx.$$"
   ]
  },
  {
   "cell_type": "code",
   "execution_count": 11,
   "id": "7f9f0612",
   "metadata": {},
   "outputs": [
    {
     "name": "stdout",
     "output_type": "stream",
     "text": [
      "Exact value: 3.141592653589793\n",
      "Approximation by trapezoid rule: 3.1414074684073294\n",
      "Approximation by Simpson rule: 3.1415926535353593\n",
      "Approximation by Gaussian quadrature with two points: 3.141592653628502\n",
      "Approximation by Gaussian quadrature with three points: 3.141592653560033\n"
     ]
    }
   ],
   "source": [
    "println(\"Exact value: \", Float64(π))\n",
    "g(x) = 2/(1+x^2)\n",
    "println(\"Approximation by trapezoid rule: \", trapezoid(g,-1,1,60))\n",
    "println(\"Approximation by Simpson rule: \", simpson(g,-1,1,60))\n",
    "println(\"Approximation by Gaussian quadrature with two points: \", gaussian2(g,-1,1,30))\n",
    "println(\"Approximation by Gaussian quadrature with three points: \", gaussian3(g,-1,1,20))"
   ]
  },
  {
   "cell_type": "markdown",
   "id": "65143f9b",
   "metadata": {},
   "source": [
    "In this case, the Simpson rule, and the two Gaussian quadrature rules, give us a much better approximation than the trapezoid rule. The approximations are accurate to several digits even though we used very few points.\n",
    "\n",
    "The function `gaussian3` has a higher degree of accuracy in theory than `simpson` or `gaussian2`. However, to really apreciate its benefit, we would have to be integrating with a larger number of points. In practice, we get a nearly exact solution with any of these three methods if we use more than 150 points. So, the benefit of `gaussian3` is harder to observe."
   ]
  },
  {
   "cell_type": "code",
   "execution_count": null,
   "id": "608d3a48",
   "metadata": {},
   "outputs": [],
   "source": []
  }
 ],
 "metadata": {
  "kernelspec": {
   "display_name": "Julia 1.9.3",
   "language": "julia",
   "name": "julia-1.9"
  },
  "language_info": {
   "file_extension": ".jl",
   "mimetype": "application/julia",
   "name": "julia",
   "version": "1.9.3"
  }
 },
 "nbformat": 4,
 "nbformat_minor": 5
}
