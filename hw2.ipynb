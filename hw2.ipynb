{
 "cells": [
  {
   "cell_type": "markdown",
   "id": "8fcc0a4f",
   "metadata": {},
   "source": [
    "# Homework 2\n",
    "\n",
    "Start by solving **Exercises** 3.6, 3.15 and 3.17.\n",
    "\n",
    "Let us start by recalling the code for the LU factorization given in the second tutorial."
   ]
  },
  {
   "cell_type": "code",
   "execution_count": null,
   "id": "6a01ec5e",
   "metadata": {},
   "outputs": [],
   "source": [
    "function LU(A)\n",
    "    n, m = size(A) # A is supposed to be a square matrix, so hopefully n and m will be equal.\n",
    "    \n",
    "    # We initalize L with zeros and U to be the same as A.\n",
    "    L = zeros(n,m)\n",
    "    U = copy(A)\n",
    "    \n",
    "    for k in 1:n\n",
    "        L[k,k] = 1\n",
    "        for i in (k+1):n\n",
    "            L[i,k] = U[i,k]/U[k,k]\n",
    "            U[i,:] = U[i,:] - L[i,k]*U[k,:]\n",
    "        end\n",
    "    end\n",
    "    return L, U\n",
    "end"
   ]
  },
  {
   "cell_type": "markdown",
   "id": "1b7a5755",
   "metadata": {},
   "source": [
    "## Exercise\n",
    "\n",
    "Find one matrix $A \\in \\mathbb R^{3 \\times 3}$, which is invertible and has no diagonal element equal to zero, so that the function `LU(A)` fails. You can tell it fails because it will return matrices $L$ and $U$ for which some entries are `NaN` (Not A Number)."
   ]
  },
  {
   "cell_type": "code",
   "execution_count": null,
   "id": "fc331017",
   "metadata": {},
   "outputs": [],
   "source": [
    "# You have to modify the following matrix\n",
    "A = [1. 1. 1.\n",
    "    1. 1. 1.\n",
    "    1. 1. 1.]\n",
    "LU(A)"
   ]
  },
  {
   "cell_type": "markdown",
   "id": "481fcab1",
   "metadata": {},
   "source": [
    "## Exercise\n",
    "\n",
    "Implement the forward sustitution algorithm to solve $Lx=y$ when $L$ is lower triangular."
   ]
  },
  {
   "cell_type": "code",
   "execution_count": null,
   "id": "6793fc8e",
   "metadata": {},
   "outputs": [],
   "source": [
    "function forward_substitute(L,y)\n",
    "    n, m = size(L)\n",
    "    r, = size(y)\n",
    "    @assert n == m == r\n",
    "    x = similar(y)\n",
    "\n",
    "    # Something has to go here\n",
    "    \n",
    "    return x\n",
    "end"
   ]
  },
  {
   "cell_type": "markdown",
   "id": "fbe21d8f",
   "metadata": {},
   "source": [
    "## Exercise\n",
    "\n",
    "Implement the backward sustitution algorithm to solve $Ux=y$ when $U$ is upper triangular.\n",
    "\n",
    "**Suggestion**. The range `n:-1:1` corresponds to the numbers $\\{n, n-1, n-2, \\dots, 2, 1\\}$ in backward order."
   ]
  },
  {
   "cell_type": "code",
   "execution_count": null,
   "id": "1133e011",
   "metadata": {},
   "outputs": [],
   "source": [
    "function backward_substitute(U,y)\n",
    "    n, m = size(U)\n",
    "    r, = size(y)\n",
    "    @assert n == m == r\n",
    "    x = similar(n)\n",
    "    \n",
    "    # Something has to go here!\n",
    "    \n",
    "    return x\n",
    "end"
   ]
  },
  {
   "cell_type": "markdown",
   "id": "ef900182",
   "metadata": {},
   "source": [
    "## Exercise\n",
    "\n",
    "Write a function that solves a linear system $Ax=f$ using Gaussian elimination.\n",
    "\n",
    "If you want, you can use the `LU` function above and implement backward substitution. Otherwise, you can re-implement Gaussian elimination modifying the right-hand side $f$ along the way."
   ]
  },
  {
   "cell_type": "code",
   "execution_count": null,
   "id": "b5542273",
   "metadata": {},
   "outputs": [],
   "source": [
    "function solve(A,f)\n",
    "    n, m = size(A)\n",
    "    r, = size(f)\n",
    "    @assert n == m == r\n",
    "    \n",
    "    # Something goes here\n",
    "    \n",
    "    return(x)\n",
    "end"
   ]
  },
  {
   "cell_type": "markdown",
   "id": "54e591ab",
   "metadata": {},
   "source": [
    "Let us test it."
   ]
  },
  {
   "cell_type": "code",
   "execution_count": null,
   "id": "258ed70f",
   "metadata": {},
   "outputs": [],
   "source": [
    "A = [1. 2. 3.\n",
    "4. 5. 6.\n",
    "0. 9. 15.]\n",
    "y = [1.\n",
    "2.\n",
    "4.]\n",
    "x = solve(A,y)\n",
    "A*x - y"
   ]
  },
  {
   "cell_type": "markdown",
   "id": "d09c6868",
   "metadata": {},
   "source": [
    "Let us try the algorithm with the Hilbert matrix to see how things can go unexpectedly wrong.\n",
    "\n",
    "Recall the Hilbert matrix which has a very high condition number\n",
    "$$ H = \\begin{pmatrix} 1 & 1/2 & 1/3 & 1/4 & \\dots \\\\ 1/2 & 1/3 & 1/4 & 1/5 & \\dots \\\\ 1/3 & 1/4 & 1/5 & 1/6 & \\dots \\\\ \\dots & & & & \\dots \\end{pmatrix} = \\left\\{ \\frac 1 {i+j-1} \\right\\}_{ij}.$$\n",
    "\n",
    "We will try to solve $Hx = y$ for $y = (1,-1,1,-1,1,-1,\\dots)$.\n",
    "\n",
    "The following function takes the dimension **n** as the parameter and attempts to solve the equation $Hx=y$ for $H$ and $y$ as above. After computing $x$, it displays the value of $Hx$. If the computation was exact, $Hx$ should be the same as $y$. But is it?"
   ]
  },
  {
   "cell_type": "code",
   "execution_count": null,
   "id": "771a86b6",
   "metadata": {},
   "outputs": [],
   "source": [
    "# the following function takes the dimension n as the parameter\n",
    "function solvewithH(n)\n",
    "    H = [1/(i+j-1) for i in 1:n, j in 1:n]\n",
    "    y = [(-1)^i for i in 1:n]\n",
    "    x = solve(H,y)\n",
    "    println(\"We got a vector x that multiplied with H gives us\")\n",
    "    display(H*x)\n",
    "    println(\"But we wanted to get\")\n",
    "    display(y)\n",
    "    return\n",
    "end"
   ]
  },
  {
   "cell_type": "code",
   "execution_count": null,
   "id": "2804e975",
   "metadata": {},
   "outputs": [],
   "source": [
    "# Let us try a 3x3 system first. It should work fairly well.\n",
    "solvewithH(3)"
   ]
  },
  {
   "cell_type": "code",
   "execution_count": null,
   "id": "48818f4e",
   "metadata": {},
   "outputs": [],
   "source": [
    "# Let us now try a 15x15 system. It is not so large. It is arguably surprising that we can already see the effects\n",
    "# of round-off arithmetic.\n",
    "solvewithH(15)"
   ]
  },
  {
   "cell_type": "markdown",
   "id": "aba11714",
   "metadata": {},
   "source": [
    "Let us now construct the $n^2 \\times n^2$ matrix corresponding to the elastic membrane problem that we discussed in class."
   ]
  },
  {
   "cell_type": "code",
   "execution_count": null,
   "id": "9565f489",
   "metadata": {},
   "outputs": [],
   "source": [
    "function big_matrix(n)\n",
    "    A = zeros(n^2,n^2)\n",
    "    for i in 1:n^2\n",
    "        A[i,i] = 4\n",
    "        if mod(i,n)!=0\n",
    "            A[i+1,i] = -1\n",
    "            A[i,i+1] = -1\n",
    "        end\n",
    "        if i<=n^2-n\n",
    "            A[i,i+n] = -1\n",
    "            A[i+n,i] = -1\n",
    "        end\n",
    "    end\n",
    "    return A\n",
    "end\n",
    "    "
   ]
  },
  {
   "cell_type": "markdown",
   "id": "2a6f71ca",
   "metadata": {},
   "source": [
    "Recall that we wanted to make a system $Ax = y$, with the large matrix $A$ defined above, in order to compute the position of all points in an ellastic membrane with a prescripe shape on the boundary. The right-hand side $y$ depends on this boundary value. Let us set it with the following function. It takes a function $f(x,y)$ that determines the vertical displacement of the membrane for any x,y on the boundary of the unit square. We are discretizing the unit square with points from 0 to N+1 on each side."
   ]
  },
  {
   "cell_type": "markdown",
   "id": "92f26405",
   "metadata": {},
   "source": [
    "This is the function that produces the right-hand side. Don't worry if you do not understand how it works."
   ]
  },
  {
   "cell_type": "code",
   "execution_count": null,
   "id": "b9d2041a",
   "metadata": {},
   "outputs": [],
   "source": [
    "function big_rhs(n, f)\n",
    "    y = zeros(n^2)\n",
    "    for i in 1:n\n",
    "        y[i] += f(i/(n+1),0.)\n",
    "        y[n^2-n+i] += f(i/(n+1),1.)\n",
    "    end\n",
    "        \n",
    "    for i in 1:n\n",
    "        y[n*i] += f(1.,i/(n+1))\n",
    "        y[n*i-n+1] += f(0.,i/(n+1))\n",
    "    end\n",
    "    return y\n",
    "end    "
   ]
  },
  {
   "cell_type": "markdown",
   "id": "5ce32121",
   "metadata": {},
   "source": [
    "So, it is time to try it. If everything goes well, the following code should produce a pretty picture of an elastic membrane as if it was being pulled down on two opposing edges, with the other two edgest fixed to the boundary."
   ]
  },
  {
   "cell_type": "code",
   "execution_count": null,
   "id": "e840450b",
   "metadata": {},
   "outputs": [],
   "source": [
    "n = 10\n",
    "y = big_rhs(n,(x,y)->1 - sin(pi*x))\n",
    "A = big_matrix(n)\n",
    "x = solve(A,y)\n",
    "membrane = reshape(x,n,n)\n",
    "partition = 1/(n+1) : 1/(n+1) : 1-1/(n+1)\n",
    "using CairoMakie\n",
    "surface(partition,partition,membrane)"
   ]
  },
  {
   "cell_type": "markdown",
   "id": "8b367848",
   "metadata": {},
   "source": [
    "Try changing the value of $n$ for a larger one. The shape should look smoother and more realistic for large $n$. But the computation will also take longer. Eventually it will be too long and you would not want to wait for it. If we want to solve an equation like this with a very fine mesh, we should rethink how we solve the linear system."
   ]
  }
 ],
 "metadata": {
  "kernelspec": {
   "display_name": "Julia 1.9.3",
   "language": "julia",
   "name": "julia-1.9"
  },
  "language_info": {
   "file_extension": ".jl",
   "mimetype": "application/julia",
   "name": "julia",
   "version": "1.9.3"
  }
 },
 "nbformat": 4,
 "nbformat_minor": 5
}
