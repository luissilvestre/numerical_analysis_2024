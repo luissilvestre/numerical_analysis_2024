{
 "cells": [
  {
   "cell_type": "markdown",
   "id": "85c627bf",
   "metadata": {},
   "source": [
    "# Homework 8\n",
    "\n",
    "In this homework we experiment with solving PDE numerically. \n",
    "\n",
    "We have already solved the Laplace equation with zero righ-hand side in a previous problem set. For a change, let us now consider the Laplace equation with zero boundary condition and nonzero right-hand side.\n",
    "\n",
    "Let us solve the following problem\n",
    "$$ \\begin{aligned} \\Delta u &= -1 \\text{ in } [0,1]^2, \\\\\n",
    "u &= 0 \\text{ on } \\partial [0,1]^2. \\end{aligned} $$\n",
    "\n",
    "Let us discretize the value of $u$ with an $(N+2) \\times (N+2)$ grid. Here $u_{0,j}$, $u_{N+1,j}$, $u_{i,0}$ and $u_{i,N+1}$ are all equal to zero because it is the boundary values. We do not need to store these values. we can focus on computing $u_{i,j}$ for $i,j = 1,2,\\dots,N$. We have $h=1/(N+1)$.\n",
    "\n",
    "## Laplace equation\n",
    "\n",
    "Write the finite difference scheme for $u_{i,j}$ corresponding to the Laplace equation above.\n",
    "\n",
    "The scheme should take the form of a system of linear equations. We want to solve it using some of the methods from earlier homework. It is up to you to copy/paste the one of your choice."
   ]
  },
  {
   "cell_type": "code",
   "execution_count": null,
   "id": "ef99d21e",
   "metadata": {},
   "outputs": [],
   "source": [
    "############################################################################################\n",
    "# \n",
    "# Something copied from previous homework should go here?\n",
    "#\n",
    "############################################################################################\n",
    "\n",
    "using Plots\n",
    "let N=100\n",
    "    h = 1/(N+1)\n",
    "    b = h^2*ones(N,N)\n",
    "    u = zeros(N,N) # Here, the array u does not include the boundary value, since we know it is zero.\n",
    "\n",
    "    # ......\n",
    "    \n",
    "    u_with_boundary = [ (((1<i<N+2)&&(1<j<N+2)) ? u[i-1,j-1] : 0) for i in 1:N+2, j in 1:N+2]\n",
    "    surface(0:h:1,0:h:1,u_with_boundary)\n",
    "end\n"
   ]
  },
  {
   "cell_type": "markdown",
   "id": "44d6391f",
   "metadata": {},
   "source": [
    "## 1D Heat equation\n",
    "\n",
    "Let us try the heat equation now.\n",
    "$$ u_t - \\Delta_x u = 0. $$\n",
    "\n",
    "We will compute it in 1D and 2D. Let us start with 1D.\n",
    "\\begin{align}\n",
    "u_t - u_{xx} &= 0 && \\text{ for } t>0, x \\in (0,1), \\\\\n",
    "u(t,0) &= u(t,1) = 0, && \\text{ for } t>0, \\\\\n",
    "u(0,x) &= f(x) && \\text{given.}\n",
    "\\end{align}"
   ]
  },
  {
   "cell_type": "markdown",
   "id": "a8eabe78",
   "metadata": {},
   "source": [
    "We also discretize the problem in space and time. But we do not need to save the values of $u$ for all computed times. Let us iterate over a one dimensional array `u[i]` so that at the *current* time $t$ we have $u(t,ih) \\approx \\mathrm{u}[i]$.\n",
    "\n",
    "Let us use a variable $k$ to denote the time step. The following function is supposed to compute one time step."
   ]
  },
  {
   "cell_type": "code",
   "execution_count": null,
   "id": "f2cb9c40",
   "metadata": {},
   "outputs": [],
   "source": [
    "function heat_time_step(u::Array{<:Real,1}, k::Real)\n",
    "    N = length(u)\n",
    "    h = 1/(N+1)  # We implicitly take u[0] = u[N+1] = 0 corresponding to the boundary value.\n",
    "    v = similar(u)\n",
    "\n",
    "    # ...\n",
    "    \n",
    "    return v\n",
    "end"
   ]
  },
  {
   "cell_type": "markdown",
   "id": "b03c4832",
   "metadata": {},
   "source": [
    "### Movie time!\n",
    "\n",
    "The time of the movie corresponds to the value of $t$. If we use a smaller step size `k`, the movie will run at the same speed. The computation to produce the movie will take longer."
   ]
  },
  {
   "cell_type": "code",
   "execution_count": null,
   "id": "1e7692a8",
   "metadata": {},
   "outputs": [],
   "source": [
    "function do_nice_movie(k::Real, N::Integer, f::Function)\n",
    "    h = 1/(N+1)\n",
    "    u = [ f(h*i) for i in 1:N ]\n",
    "\n",
    "    t = 0\n",
    "    return @animate for time in 1:200\n",
    "        u_with_boundary = [0,u...,0]\n",
    "        plot(0:h:1,u_with_boundary, ylims=(-1,1), label=\"time \"*string(time/10000))\n",
    "        while t < time / 10000\n",
    "            u = heat_time_step(u,k)\n",
    "            t += k\n",
    "        end\n",
    "    end\n",
    "end"
   ]
  },
  {
   "cell_type": "code",
   "execution_count": null,
   "id": "72f7ddda",
   "metadata": {},
   "outputs": [],
   "source": [
    "f(x) = x * sin(5*pi*x) # Haven't I seen this initial value somewhere?\n",
    "N = 200\n",
    "k = 0.000001\n",
    "gif(do_nice_movie(k,N,f))"
   ]
  },
  {
   "cell_type": "markdown",
   "id": "46589c8f",
   "metadata": {},
   "source": [
    "The solution should be practically flat by the time = $0.015$. We used a tiny value for the time step $k = 0.000001$. Can we use a larger value for `k`? What's the largest value of $k$ we can put in there before the scheme becomes unstable?"
   ]
  },
  {
   "cell_type": "markdown",
   "id": "4ef851d5",
   "metadata": {},
   "source": [
    "## 2D Heat equation\n",
    "\n",
    "Let us continue with 2D.\n",
    "\\begin{align}\n",
    "u_t - u_{xx} - u_{yy} &= 0 && \\text{ for } t>0, x \\in (0,1), y \\in (0,1) \\\\\n",
    "u(t,x,y) &= 0, && \\text{ if $x$ or $y$ equals $0$ or $1$} , \\\\\n",
    "u(0,x,y) &= f(x,y) && \\text{given.}\n",
    "\\end{align}"
   ]
  },
  {
   "cell_type": "markdown",
   "id": "2ccf3f7d",
   "metadata": {},
   "source": [
    "Now we iterate over a two dimensional array `u[i,j]` so that at the *current* time $t$ we have $u(t,ih,jh) \\approx \\mathrm{u}[i,j]$.\n",
    "\n",
    "As before, the variable $k$ denotes the time step. The following function is supposed to compute one time step."
   ]
  },
  {
   "cell_type": "code",
   "execution_count": null,
   "id": "d30df4df",
   "metadata": {},
   "outputs": [],
   "source": [
    "function heat_time_step(u::Array{<:Real,2}, k::Real)\n",
    "    N,M = size(u)\n",
    "    h = 1/(N+1)  # We implicitly take u[0] = u[N+1] = 0 corresponding to the boundary value.\n",
    "    v = similar(u)\n",
    "    \n",
    "    # ...\n",
    "    \n",
    "    return v\n",
    "end"
   ]
  },
  {
   "cell_type": "code",
   "execution_count": null,
   "id": "787e584e",
   "metadata": {},
   "outputs": [],
   "source": [
    "function do_nice_3d_movie(k::Real, N::Integer, f::Function)\n",
    "    h = 1/(N+1)\n",
    "    u = [ f(h*i,h*j) for i in 1:N, j in 1:N ]\n",
    "\n",
    "    t = 0\n",
    "    return @animate for time in 1:200\n",
    "        u_with_boundary = [ (((1<i<N+2)&&(1<j<N+2)) ? u[i-1,j-1] : 0) for i in 1:N+2, j in 1:N+2]\n",
    "        surface(0:h:1,0:h:1,u_with_boundary, zlims=(-1,1), label=\"time \"*string(time/10000))\n",
    "        while t < time / 10000\n",
    "            u = heat_time_step(u,k)\n",
    "            t += k\n",
    "        end\n",
    "    end\n",
    "end"
   ]
  },
  {
   "cell_type": "code",
   "execution_count": null,
   "id": "cb74abdd",
   "metadata": {},
   "outputs": [],
   "source": [
    "f(x,y) = y * sin(5*pi*x) * sin(pi*y)\n",
    "N = 100\n",
    "k = 0.00001\n",
    "gif(do_nice_3d_movie(k,N,f))"
   ]
  },
  {
   "cell_type": "markdown",
   "id": "3020ed74",
   "metadata": {},
   "source": [
    "## Wave equation.\n",
    "\n",
    "Let us try to do the wave equation now. The equation is the following.\n",
    "\\begin{align}\n",
    "u_{tt} &= \\Delta_x u, && \\text{ for } t>0, x \\in (0,1), \\\\\n",
    "u(t,0) &= u(t,1) = 0, && \\text{ for } t>0, x \\in \\{0,1\\}, \\\\\n",
    "u(0,x) &= f(x) && \\text{ given, }\\\\\n",
    "u_t(0,x) &= g(x) && \\text{ given. }\n",
    "\\end{align}\n",
    "\n",
    "This equation involves a second derivative with respect to time. Consquently, it takes two initial values: for $u(0,x)$ and $u_t(0,x)$. We can think about it as the following system, which we get by calling $v := u_t$.\n",
    "\n",
    "\\begin{align}\n",
    "u_t &= v, && \\text{ for } t>0, x \\in (0,1), \\\\\n",
    "v_t &= \\Delta_x u, && \\text{ for } t>0, x \\in (0,1), \\\\\n",
    "u(t,x) &= v(t,x) = 0, && \\text{ for } t>0, x \\in \\{0,1\\}, \\\\\n",
    "u(0,x) &= f(x) && \\text{ given, }\\\\\n",
    "v(0,x) &= g(x) && \\text{ given. }\n",
    "\\end{align}\n",
    "\n",
    "We use two arrays `u[i]` and `v[i]` which should approximately correspond to the values of $u(t,hi)$ and $v(t,hi) = u_t(t,hi)$, as they evolve in time.\n",
    "\n",
    "The plan: write a finite difference scheme for the wave equation and cross our fingers."
   ]
  },
  {
   "cell_type": "code",
   "execution_count": null,
   "id": "d9d1a842",
   "metadata": {},
   "outputs": [],
   "source": [
    "function wave_time_step(u::Array{<:Real,1}, v::Array{<:Real,1}, k::Real)\n",
    "    N = length(u)\n",
    "    @assert N == length(v)\n",
    "    h = 1/N\n",
    "    un = similar(u)\n",
    "    vn = similar(u)\n",
    "\n",
    "    # ...\n",
    "    \n",
    "    return un, vn\n",
    "end"
   ]
  },
  {
   "cell_type": "code",
   "execution_count": null,
   "id": "19b5e1b2",
   "metadata": {},
   "outputs": [],
   "source": [
    "function do_wave_movie(k::Real, N::Integer, f::Function, g::Function)\n",
    "    h = 1/(N-1)\n",
    "    u = [ f(h*i) for i in 1:N ]\n",
    "    v = [ g(h*i) for i in 1:N ]\n",
    "\n",
    "    t = 0\n",
    "    return @animate for time in 1:700\n",
    "        plot(0:h:1, u, ylims=(-1,2), label=\"time \"*string(time/10000))\n",
    "        while t < time / 100\n",
    "            u,v = wave_time_step(u,v,k)\n",
    "            t += k\n",
    "        end\n",
    "    end\n",
    "end"
   ]
  },
  {
   "cell_type": "code",
   "execution_count": null,
   "id": "f3806b4a",
   "metadata": {},
   "outputs": [],
   "source": [
    "f(x) = 1 / (1+40*(x-0.5)^2) - 1/11\n",
    "g(x) = 0\n",
    "gif(do_wave_movie(0.0001,100,f,g))"
   ]
  },
  {
   "cell_type": "markdown",
   "id": "c79db32c",
   "metadata": {},
   "source": [
    "The solution looks decent for a while, and then it starts doing funny things. It would work much better to use Fourier series to compute a solution to the wave equation, like [on my website](https://math.uchicago.edu/~luis/pde/wave.html).\n",
    "\n",
    "It would be interesting to try the wave equation in 2D by finite differences as well. But it is also fair to stop this week's homework here. You can try if you want."
   ]
  },
  {
   "cell_type": "code",
   "execution_count": null,
   "id": "1aac2dab",
   "metadata": {},
   "outputs": [],
   "source": []
  }
 ],
 "metadata": {
  "kernelspec": {
   "display_name": "Julia 1.9.3",
   "language": "julia",
   "name": "julia-1.9"
  },
  "language_info": {
   "file_extension": ".jl",
   "mimetype": "application/julia",
   "name": "julia",
   "version": "1.9.3"
  }
 },
 "nbformat": 4,
 "nbformat_minor": 5
}
